{
 "cells": [
  {
   "cell_type": "markdown",
   "metadata": {
    "id": "6imy92Ur-z2d"
   },
   "source": [
    "# STATISTICS MID EXAM\n",
    "\n",
    "### Total Marks : 30\n",
    "### Time - 2 Hours\n"
   ]
  },
  {
   "cell_type": "markdown",
   "metadata": {
    "id": "d2Dsctxp-z2g"
   },
   "source": [
    "# SECTION A: 5 MARKS"
   ]
  },
  {
   "cell_type": "markdown",
   "metadata": {},
   "source": [
    "yy\n",
    "a)\tDetermine what percentage of vehicles will pay the penalty?(0.5 mark)\n",
    "\n",
    "b) If the limit of allowed load is decreased to 13 tonnes, what percentage of vehicles do not pay the penalty? (1 marks) \n",
    "\n",
    "c) What should be the load limit that atleast 5% of the vehicles will face penalties? (1 marks)\n"
   ]
  },
  {
   "cell_type": "code",
   "execution_count": 1,
   "metadata": {},
   "outputs": [
    {
     "data": {
      "text/plain": [
       "1.25"
      ]
     },
     "execution_count": 1,
     "metadata": {},
     "output_type": "execute_result"
    }
   ],
   "source": [
    "# A\n",
    "xbar = 13.5\n",
    "mu =12\n",
    "sigma=1.2\n",
    "z = (xbar-mu)/sigma\n",
    "z"
   ]
  },
  {
   "cell_type": "code",
   "execution_count": 2,
   "metadata": {},
   "outputs": [
    {
     "name": "stdout",
     "output_type": "stream",
     "text": [
      "percentage 10.560000000000002\n"
     ]
    }
   ],
   "source": [
    "print('percentage',(1-0.8944)*100)"
   ]
  },
  {
   "cell_type": "code",
   "execution_count": 3,
   "metadata": {},
   "outputs": [
    {
     "data": {
      "text/plain": [
       "0.8333333333333334"
      ]
     },
     "execution_count": 3,
     "metadata": {},
     "output_type": "execute_result"
    }
   ],
   "source": [
    "# B\n",
    "xbar = 13\n",
    "mu =12\n",
    "sigma=1.2\n",
    "z = (xbar-mu)/sigma\n",
    "z"
   ]
  },
  {
   "cell_type": "code",
   "execution_count": 51,
   "metadata": {},
   "outputs": [
    {
     "name": "stdout",
     "output_type": "stream",
     "text": [
      "percentage 79.67\n"
     ]
    }
   ],
   "source": [
    "print('percentage',0.7967*100)"
   ]
  },
  {
   "cell_type": "code",
   "execution_count": 4,
   "metadata": {},
   "outputs": [
    {
     "name": "stdout",
     "output_type": "stream",
     "text": [
      "5% of the vehicles will face penalties 7.2\n"
     ]
    }
   ],
   "source": [
    "# 5% \n",
    "\n",
    "print('5% of the vehicles will face penalties',0.5*12+1.2)"
   ]
  },
  {
   "cell_type": "markdown",
   "metadata": {},
   "source": [
    "### 2Q) A fitness company claims that 500 individuals followed a healthy diet for a month and they have lost atleast 5kg. A random sample of 29 individuals weights have been gathered and they have lost an average of 6.7kgs. Assume that the average weight loss of all the individuals have a normal distribution with the population standard deviation of 1.3. Using 5% significance level, can we conclude that the fitness company claim is false? (2.5 Marks)\n",
    "\n",
    "A.Frame Null and Alternate Hypothesis ( 0.5 Mark)\n",
    "\n",
    "B.State which tail test to be performed (0.5 Mark)\n",
    "\n",
    "C.Find the test statistic (1 Mark)\n",
    "\n",
    "D.Interpret the results (0.5 Mark)\n",
    "\n"
   ]
  },
  {
   "cell_type": "code",
   "execution_count": 1,
   "metadata": {},
   "outputs": [],
   "source": [
    "import pandas as pd\n",
    "import numpy as np\n",
    "import scipy.stats as stats"
   ]
  },
  {
   "cell_type": "markdown",
   "metadata": {},
   "source": [
    "* H0 : mu <= 5\n",
    "* Ha : mu > 5"
   ]
  },
  {
   "cell_type": "markdown",
   "metadata": {},
   "source": [
    "###### **perform right tail test**"
   ]
  },
  {
   "cell_type": "code",
   "execution_count": 2,
   "metadata": {},
   "outputs": [
    {
     "data": {
      "text/plain": [
       "7.042138593945121"
      ]
     },
     "execution_count": 2,
     "metadata": {},
     "output_type": "execute_result"
    }
   ],
   "source": [
    "mu= 5\n",
    "xbar= 6.7\n",
    "n= 29\n",
    "sigma = 1.3\n",
    "se =sigma/np.sqrt(29)\n",
    "zstats= (xbar-mu)/se\n",
    "zstats"
   ]
  },
  {
   "cell_type": "code",
   "execution_count": 3,
   "metadata": {},
   "outputs": [
    {
     "name": "stdout",
     "output_type": "stream",
     "text": [
      "critical value 1.6448536269514722\n"
     ]
    }
   ],
   "source": [
    "print('critical value',stats.norm.ppf(0.95))"
   ]
  },
  {
   "cell_type": "markdown",
   "metadata": {},
   "source": [
    "since the critical value is greater than pvalue we can reject the null hypothesis"
   ]
  },
  {
   "cell_type": "markdown",
   "metadata": {
    "id": "0kbvPkA9-z2r"
   },
   "source": [
    "# SECTION B: 10 MARKS"
   ]
  },
  {
   "cell_type": "markdown",
   "metadata": {
    "id": "vRxYOr4q-z2s"
   },
   "source": [
    " _____________________________"
   ]
  },
  {
   "cell_type": "markdown",
   "metadata": {},
   "source": [
    "### 3Q) For a concrete to become strong curing is most important aspect, basically for a building contractor managing water resources is the biggest challenge so he wanted to check what is the ideal temparature for a concrete to gain full strength with minimal water resource for 28 days. Below data shows the strength aquired by sample concrete blocks based on various temparature.Perform the analysis with 5% significance level.(10 marks)\n",
    "\n",
    "| Strength in 5 degree to 15 degree|Strength in  15 degree to 30 degree|Strength in 30 degree to 45 degree|\n",
    "|---|---|---|\n",
    "|12 |9|6|\n",
    "|8||5|\n",
    "|11 |7|5|\n",
    "|12 |6|4|\n",
    "|14 |8|8|\n",
    "|8 |4|7|\n",
    "|9 |6|6|\n",
    "|11 |7|2|\n",
    "|12 |7|4|\n",
    "|11.5 |7|3|\n",
    "|10.5 |8|4|\n",
    "|10.5 |8|5|\n",
    "\n",
    "\n",
    "\n",
    "i) Create the Hypothesis (1 marks)\n",
    "\n",
    "ii) Determine the Statistical Test and give the reason for the selection of the test.(1 mark)\n",
    "\n",
    "iii) Find the test statistics and pvalue.(3 marks)\n",
    "\n",
    "iv) Interpret the Results(2 marks)\n",
    "\n",
    "v) If strength differs. Find at which temperature strength differs(3 marks)\n",
    "\n",
    "\n",
    "**Note: Assume data is normally distributed and have equal variance.**"
   ]
  },
  {
   "cell_type": "markdown",
   "metadata": {},
   "source": [
    "hypothesis\n",
    "\n",
    "* H0 : temperature has no impact on concrete brick strength\n",
    "* Ha : temperture has impacton concrete brick strength"
   ]
  },
  {
   "cell_type": "code",
   "execution_count": 4,
   "metadata": {},
   "outputs": [],
   "source": [
    "s5_15 = [12,8,11,12,14,8,9,11,12,11.5,10.5,10.5]\n",
    "s15_30 = [9,np.nan,7,6,8,4,6,7,7,7,8,8]\n",
    "s30_45 = [6,5,5,4,8,7,6,2,4,3,4,5]"
   ]
  },
  {
   "cell_type": "code",
   "execution_count": 5,
   "metadata": {},
   "outputs": [
    {
     "data": {
      "text/plain": [
       "F_onewayResult(statistic=nan, pvalue=nan)"
      ]
     },
     "execution_count": 5,
     "metadata": {},
     "output_type": "execute_result"
    }
   ],
   "source": [
    "stats.f_oneway(s5_15,s15_30,s30_45)"
   ]
  },
  {
   "cell_type": "markdown",
   "metadata": {},
   "source": [
    "`infrences:-`\n",
    "    \n",
    "   **reject the reject null hypothesis**"
   ]
  },
  {
   "cell_type": "code",
   "execution_count": 6,
   "metadata": {},
   "outputs": [],
   "source": [
    "sk= pd.DataFrame({'Strength in 5 degree to 15 degree':s5_15,'Strength in 15 degree to 30 degree':s15_30,'Strength in 30 degree to 45 degree':s30_45})"
   ]
  },
  {
   "cell_type": "code",
   "execution_count": 7,
   "metadata": {},
   "outputs": [],
   "source": [
    "sk= sk.melt()"
   ]
  },
  {
   "cell_type": "code",
   "execution_count": 8,
   "metadata": {},
   "outputs": [],
   "source": [
    "sk.drop(index=13,inplace = True)"
   ]
  },
  {
   "cell_type": "code",
   "execution_count": 17,
   "metadata": {},
   "outputs": [
    {
     "data": {
      "text/html": [
       "<div>\n",
       "<style scoped>\n",
       "    .dataframe tbody tr th:only-of-type {\n",
       "        vertical-align: middle;\n",
       "    }\n",
       "\n",
       "    .dataframe tbody tr th {\n",
       "        vertical-align: top;\n",
       "    }\n",
       "\n",
       "    .dataframe thead th {\n",
       "        text-align: right;\n",
       "    }\n",
       "</style>\n",
       "<table border=\"1\" class=\"dataframe\">\n",
       "  <thead>\n",
       "    <tr style=\"text-align: right;\">\n",
       "      <th></th>\n",
       "      <th>variable</th>\n",
       "      <th>value</th>\n",
       "    </tr>\n",
       "  </thead>\n",
       "  <tbody>\n",
       "    <tr>\n",
       "      <th>0</th>\n",
       "      <td>Strength in 5 degree to 15 degree</td>\n",
       "      <td>12.0</td>\n",
       "    </tr>\n",
       "    <tr>\n",
       "      <th>1</th>\n",
       "      <td>Strength in 5 degree to 15 degree</td>\n",
       "      <td>8.0</td>\n",
       "    </tr>\n",
       "    <tr>\n",
       "      <th>2</th>\n",
       "      <td>Strength in 5 degree to 15 degree</td>\n",
       "      <td>11.0</td>\n",
       "    </tr>\n",
       "    <tr>\n",
       "      <th>3</th>\n",
       "      <td>Strength in 5 degree to 15 degree</td>\n",
       "      <td>12.0</td>\n",
       "    </tr>\n",
       "    <tr>\n",
       "      <th>4</th>\n",
       "      <td>Strength in 5 degree to 15 degree</td>\n",
       "      <td>14.0</td>\n",
       "    </tr>\n",
       "  </tbody>\n",
       "</table>\n",
       "</div>"
      ],
      "text/plain": [
       "                            variable  value\n",
       "0  Strength in 5 degree to 15 degree   12.0\n",
       "1  Strength in 5 degree to 15 degree    8.0\n",
       "2  Strength in 5 degree to 15 degree   11.0\n",
       "3  Strength in 5 degree to 15 degree   12.0\n",
       "4  Strength in 5 degree to 15 degree   14.0"
      ]
     },
     "execution_count": 17,
     "metadata": {},
     "output_type": "execute_result"
    }
   ],
   "source": [
    "sk.head()"
   ]
  },
  {
   "cell_type": "code",
   "execution_count": 9,
   "metadata": {},
   "outputs": [],
   "source": [
    "from statsmodels.stats.multicomp import MultiComparison"
   ]
  },
  {
   "cell_type": "code",
   "execution_count": 22,
   "metadata": {},
   "outputs": [],
   "source": [
    "m= MultiComparison(sk.value,sk.variable).tukeyhsd()"
   ]
  },
  {
   "cell_type": "code",
   "execution_count": 24,
   "metadata": {
    "scrolled": true
   },
   "outputs": [
    {
     "name": "stdout",
     "output_type": "stream",
     "text": [
      "                            Multiple Comparison of Means - Tukey HSD, FWER=0.05                            \n",
      "===========================================================================================================\n",
      "              group1                             group2               meandiff p-adj  lower   upper  reject\n",
      "-----------------------------------------------------------------------------------------------------------\n",
      "Strength in 15 degree to 30 degree Strength in 30 degree to 45 degree  -2.0833 0.011 -3.7365 -0.4302   True\n",
      "Strength in 15 degree to 30 degree  Strength in 5 degree to 15 degree   3.7917 0.001  2.1385  5.4448   True\n",
      "Strength in 30 degree to 45 degree  Strength in 5 degree to 15 degree    5.875 0.001  4.2582  7.4918   True\n",
      "-----------------------------------------------------------------------------------------------------------\n"
     ]
    }
   ],
   "source": [
    "print(m)"
   ]
  },
  {
   "cell_type": "markdown",
   "metadata": {
    "id": "y57w4MY_-z2x"
   },
   "source": [
    " _________________"
   ]
  },
  {
   "cell_type": "markdown",
   "metadata": {
    "id": "BXZCgUr--z2y"
   },
   "source": [
    "# SECTION C: 15 MARKS"
   ]
  },
  {
   "cell_type": "markdown",
   "metadata": {
    "id": "D0-9nQIM-z2y"
   },
   "source": [
    " _________________"
   ]
  },
  {
   "cell_type": "markdown",
   "metadata": {},
   "source": [
    "### Q4) Consider salary data set to solve the below hypothesis . .(Use p-value method with 95%confidence level)\n",
    "\n",
    "1.Does Age has any effect on the salary of an individual  ( 3 marks )\n",
    "\n",
    "2.Does Education has any effect on the salary of an individual ( 3 marks )\n",
    "\n",
    "3.Does Designation has any effect on the salary of an individual ( 3 marks )\n",
    "\n",
    "4.Does salary effected by gender of an individual.  ( 3 marks )\n",
    "\n",
    "5.Does salary effected by experience of an individual. ( 3 marks )"
   ]
  },
  {
   "cell_type": "markdown",
   "metadata": {},
   "source": [
    "**Note: Assume data is normally distributed and have equal variance.**"
   ]
  },
  {
   "cell_type": "code",
   "execution_count": 11,
   "metadata": {},
   "outputs": [
    {
     "data": {
      "text/html": [
       "<div>\n",
       "<style scoped>\n",
       "    .dataframe tbody tr th:only-of-type {\n",
       "        vertical-align: middle;\n",
       "    }\n",
       "\n",
       "    .dataframe tbody tr th {\n",
       "        vertical-align: top;\n",
       "    }\n",
       "\n",
       "    .dataframe thead th {\n",
       "        text-align: right;\n",
       "    }\n",
       "</style>\n",
       "<table border=\"1\" class=\"dataframe\">\n",
       "  <thead>\n",
       "    <tr style=\"text-align: right;\">\n",
       "      <th></th>\n",
       "      <th>Student_id</th>\n",
       "      <th>Age</th>\n",
       "      <th>Gender</th>\n",
       "      <th>Education</th>\n",
       "      <th>Experience</th>\n",
       "      <th>Designation</th>\n",
       "      <th>Salary</th>\n",
       "    </tr>\n",
       "  </thead>\n",
       "  <tbody>\n",
       "    <tr>\n",
       "      <th>0</th>\n",
       "      <td>1</td>\n",
       "      <td>22</td>\n",
       "      <td>M</td>\n",
       "      <td>Degree</td>\n",
       "      <td>1</td>\n",
       "      <td>Associate</td>\n",
       "      <td>28000</td>\n",
       "    </tr>\n",
       "    <tr>\n",
       "      <th>1</th>\n",
       "      <td>2</td>\n",
       "      <td>23</td>\n",
       "      <td>F</td>\n",
       "      <td>Degree</td>\n",
       "      <td>2</td>\n",
       "      <td>Associate</td>\n",
       "      <td>21000</td>\n",
       "    </tr>\n",
       "    <tr>\n",
       "      <th>2</th>\n",
       "      <td>3</td>\n",
       "      <td>24</td>\n",
       "      <td>F</td>\n",
       "      <td>Masters</td>\n",
       "      <td>3</td>\n",
       "      <td>Associate</td>\n",
       "      <td>22000</td>\n",
       "    </tr>\n",
       "    <tr>\n",
       "      <th>3</th>\n",
       "      <td>4</td>\n",
       "      <td>25</td>\n",
       "      <td>F</td>\n",
       "      <td>Masters</td>\n",
       "      <td>4</td>\n",
       "      <td>Associate</td>\n",
       "      <td>23000</td>\n",
       "    </tr>\n",
       "    <tr>\n",
       "      <th>4</th>\n",
       "      <td>5</td>\n",
       "      <td>32</td>\n",
       "      <td>M</td>\n",
       "      <td>Degree</td>\n",
       "      <td>11</td>\n",
       "      <td>Associate</td>\n",
       "      <td>21000</td>\n",
       "    </tr>\n",
       "  </tbody>\n",
       "</table>\n",
       "</div>"
      ],
      "text/plain": [
       "   Student_id  Age Gender Education  Experience Designation  Salary\n",
       "0           1   22      M    Degree           1   Associate   28000\n",
       "1           2   23      F    Degree           2   Associate   21000\n",
       "2           3   24      F   Masters           3   Associate   22000\n",
       "3           4   25      F   Masters           4   Associate   23000\n",
       "4           5   32      M    Degree          11   Associate   21000"
      ]
     },
     "execution_count": 11,
     "metadata": {},
     "output_type": "execute_result"
    }
   ],
   "source": [
    "import pandas as pd\n",
    "df = pd.read_csv('data_set.csv')\n",
    "df.head()"
   ]
  },
  {
   "cell_type": "code",
   "execution_count": 25,
   "metadata": {},
   "outputs": [],
   "source": [
    "from statsmodels.formula.api import ols"
   ]
  },
  {
   "cell_type": "code",
   "execution_count": 27,
   "metadata": {},
   "outputs": [
    {
     "data": {
      "text/plain": [
       "Ttest_indResult(statistic=-43.54052993245657, pvalue=5.792256277166886e-122)"
      ]
     },
     "execution_count": 27,
     "metadata": {},
     "output_type": "execute_result"
    }
   ],
   "source": [
    "stats.ttest_ind(df.Age,df.Salary)"
   ]
  },
  {
   "cell_type": "code",
   "execution_count": 30,
   "metadata": {},
   "outputs": [],
   "source": [
    "# since pvalue is greater we reject the null hypothesis\n",
    "model=ols('Salary~Education',df).fit()"
   ]
  },
  {
   "cell_type": "code",
   "execution_count": 33,
   "metadata": {},
   "outputs": [],
   "source": [
    "import statsmodels.stats.api as st"
   ]
  },
  {
   "cell_type": "code",
   "execution_count": 34,
   "metadata": {},
   "outputs": [
    {
     "data": {
      "text/html": [
       "<div>\n",
       "<style scoped>\n",
       "    .dataframe tbody tr th:only-of-type {\n",
       "        vertical-align: middle;\n",
       "    }\n",
       "\n",
       "    .dataframe tbody tr th {\n",
       "        vertical-align: top;\n",
       "    }\n",
       "\n",
       "    .dataframe thead th {\n",
       "        text-align: right;\n",
       "    }\n",
       "</style>\n",
       "<table border=\"1\" class=\"dataframe\">\n",
       "  <thead>\n",
       "    <tr style=\"text-align: right;\">\n",
       "      <th></th>\n",
       "      <th>df</th>\n",
       "      <th>sum_sq</th>\n",
       "      <th>mean_sq</th>\n",
       "      <th>F</th>\n",
       "      <th>PR(&gt;F)</th>\n",
       "    </tr>\n",
       "  </thead>\n",
       "  <tbody>\n",
       "    <tr>\n",
       "      <th>Education</th>\n",
       "      <td>2.0</td>\n",
       "      <td>7.250989e+08</td>\n",
       "      <td>3.625494e+08</td>\n",
       "      <td>5.960305</td>\n",
       "      <td>0.003343</td>\n",
       "    </tr>\n",
       "    <tr>\n",
       "      <th>Residual</th>\n",
       "      <td>129.0</td>\n",
       "      <td>7.846725e+09</td>\n",
       "      <td>6.082733e+07</td>\n",
       "      <td>NaN</td>\n",
       "      <td>NaN</td>\n",
       "    </tr>\n",
       "  </tbody>\n",
       "</table>\n",
       "</div>"
      ],
      "text/plain": [
       "              df        sum_sq       mean_sq         F    PR(>F)\n",
       "Education    2.0  7.250989e+08  3.625494e+08  5.960305  0.003343\n",
       "Residual   129.0  7.846725e+09  6.082733e+07       NaN       NaN"
      ]
     },
     "execution_count": 34,
     "metadata": {},
     "output_type": "execute_result"
    }
   ],
   "source": [
    "st.anova_lm(model)"
   ]
  },
  {
   "cell_type": "code",
   "execution_count": 36,
   "metadata": {},
   "outputs": [],
   "source": [
    "model=ols('Salary~Designation',df).fit()"
   ]
  },
  {
   "cell_type": "code",
   "execution_count": 37,
   "metadata": {},
   "outputs": [
    {
     "data": {
      "text/html": [
       "<div>\n",
       "<style scoped>\n",
       "    .dataframe tbody tr th:only-of-type {\n",
       "        vertical-align: middle;\n",
       "    }\n",
       "\n",
       "    .dataframe tbody tr th {\n",
       "        vertical-align: top;\n",
       "    }\n",
       "\n",
       "    .dataframe thead th {\n",
       "        text-align: right;\n",
       "    }\n",
       "</style>\n",
       "<table border=\"1\" class=\"dataframe\">\n",
       "  <thead>\n",
       "    <tr style=\"text-align: right;\">\n",
       "      <th></th>\n",
       "      <th>df</th>\n",
       "      <th>sum_sq</th>\n",
       "      <th>mean_sq</th>\n",
       "      <th>F</th>\n",
       "      <th>PR(&gt;F)</th>\n",
       "    </tr>\n",
       "  </thead>\n",
       "  <tbody>\n",
       "    <tr>\n",
       "      <th>Designation</th>\n",
       "      <td>3.0</td>\n",
       "      <td>8.760928e+08</td>\n",
       "      <td>2.920309e+08</td>\n",
       "      <td>4.857233</td>\n",
       "      <td>0.003111</td>\n",
       "    </tr>\n",
       "    <tr>\n",
       "      <th>Residual</th>\n",
       "      <td>128.0</td>\n",
       "      <td>7.695731e+09</td>\n",
       "      <td>6.012290e+07</td>\n",
       "      <td>NaN</td>\n",
       "      <td>NaN</td>\n",
       "    </tr>\n",
       "  </tbody>\n",
       "</table>\n",
       "</div>"
      ],
      "text/plain": [
       "                df        sum_sq       mean_sq         F    PR(>F)\n",
       "Designation    3.0  8.760928e+08  2.920309e+08  4.857233  0.003111\n",
       "Residual     128.0  7.695731e+09  6.012290e+07       NaN       NaN"
      ]
     },
     "execution_count": 37,
     "metadata": {},
     "output_type": "execute_result"
    }
   ],
   "source": [
    "st.anova_lm(model)"
   ]
  },
  {
   "cell_type": "code",
   "execution_count": 39,
   "metadata": {},
   "outputs": [],
   "source": [
    "model=ols('Salary~Gender',df).fit()"
   ]
  },
  {
   "cell_type": "code",
   "execution_count": 40,
   "metadata": {},
   "outputs": [
    {
     "data": {
      "text/html": [
       "<div>\n",
       "<style scoped>\n",
       "    .dataframe tbody tr th:only-of-type {\n",
       "        vertical-align: middle;\n",
       "    }\n",
       "\n",
       "    .dataframe tbody tr th {\n",
       "        vertical-align: top;\n",
       "    }\n",
       "\n",
       "    .dataframe thead th {\n",
       "        text-align: right;\n",
       "    }\n",
       "</style>\n",
       "<table border=\"1\" class=\"dataframe\">\n",
       "  <thead>\n",
       "    <tr style=\"text-align: right;\">\n",
       "      <th></th>\n",
       "      <th>df</th>\n",
       "      <th>sum_sq</th>\n",
       "      <th>mean_sq</th>\n",
       "      <th>F</th>\n",
       "      <th>PR(&gt;F)</th>\n",
       "    </tr>\n",
       "  </thead>\n",
       "  <tbody>\n",
       "    <tr>\n",
       "      <th>Gender</th>\n",
       "      <td>1.0</td>\n",
       "      <td>3.109169e+07</td>\n",
       "      <td>3.109169e+07</td>\n",
       "      <td>0.473252</td>\n",
       "      <td>0.49272</td>\n",
       "    </tr>\n",
       "    <tr>\n",
       "      <th>Residual</th>\n",
       "      <td>130.0</td>\n",
       "      <td>8.540732e+09</td>\n",
       "      <td>6.569794e+07</td>\n",
       "      <td>NaN</td>\n",
       "      <td>NaN</td>\n",
       "    </tr>\n",
       "  </tbody>\n",
       "</table>\n",
       "</div>"
      ],
      "text/plain": [
       "             df        sum_sq       mean_sq         F   PR(>F)\n",
       "Gender      1.0  3.109169e+07  3.109169e+07  0.473252  0.49272\n",
       "Residual  130.0  8.540732e+09  6.569794e+07       NaN      NaN"
      ]
     },
     "execution_count": 40,
     "metadata": {},
     "output_type": "execute_result"
    }
   ],
   "source": [
    "st.anova_lm(model)"
   ]
  },
  {
   "cell_type": "code",
   "execution_count": 41,
   "metadata": {},
   "outputs": [
    {
     "data": {
      "text/plain": [
       "Ttest_indResult(statistic=43.57035659829276, pvalue=4.947064888218357e-122)"
      ]
     },
     "execution_count": 41,
     "metadata": {},
     "output_type": "execute_result"
    }
   ],
   "source": [
    "stats.ttest_ind(df.Salary,df.Experience)"
   ]
  }
 ],
 "metadata": {
  "kernelspec": {
   "display_name": "Python 3 (ipykernel)",
   "language": "python",
   "name": "python3"
  },
  "language_info": {
   "codemirror_mode": {
    "name": "ipython",
    "version": 3
   },
   "file_extension": ".py",
   "mimetype": "text/x-python",
   "name": "python",
   "nbconvert_exporter": "python",
   "pygments_lexer": "ipython3",
   "version": "3.9.12"
  }
 },
 "nbformat": 4,
 "nbformat_minor": 4
}
