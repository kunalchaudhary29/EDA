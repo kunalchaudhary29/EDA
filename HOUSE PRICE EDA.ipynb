{
 "cells": [
  {
   "cell_type": "code",
   "execution_count": 209,
   "id": "da773cee",
   "metadata": {},
   "outputs": [],
   "source": [
    "import numpy as np\n",
    "import pandas as pd\n",
    "\n",
    "import matplotlib.pyplot as plt\n",
    "import seaborn as sns\n",
    "\n",
    "from warnings import filterwarnings\n",
    "filterwarnings('ignore')"
   ]
  },
  {
   "cell_type": "code",
   "execution_count": 210,
   "id": "293fda84",
   "metadata": {},
   "outputs": [
    {
     "data": {
      "text/html": [
       "<div>\n",
       "<style scoped>\n",
       "    .dataframe tbody tr th:only-of-type {\n",
       "        vertical-align: middle;\n",
       "    }\n",
       "\n",
       "    .dataframe tbody tr th {\n",
       "        vertical-align: top;\n",
       "    }\n",
       "\n",
       "    .dataframe thead th {\n",
       "        text-align: right;\n",
       "    }\n",
       "</style>\n",
       "<table border=\"1\" class=\"dataframe\">\n",
       "  <thead>\n",
       "    <tr style=\"text-align: right;\">\n",
       "      <th></th>\n",
       "      <th>Id</th>\n",
       "      <th>OverallQual</th>\n",
       "      <th>YearBuilt</th>\n",
       "      <th>TotalBsmtSF</th>\n",
       "      <th>Electrical</th>\n",
       "      <th>GrLivArea</th>\n",
       "      <th>FullBath</th>\n",
       "      <th>GarageType</th>\n",
       "      <th>GarageCars</th>\n",
       "      <th>GarageArea</th>\n",
       "      <th>Fence</th>\n",
       "      <th>MiscFeature</th>\n",
       "      <th>SalePrice</th>\n",
       "    </tr>\n",
       "  </thead>\n",
       "  <tbody>\n",
       "    <tr>\n",
       "      <th>0</th>\n",
       "      <td>1</td>\n",
       "      <td>7</td>\n",
       "      <td>2003</td>\n",
       "      <td>856</td>\n",
       "      <td>SBrkr</td>\n",
       "      <td>1710</td>\n",
       "      <td>2</td>\n",
       "      <td>Attchd</td>\n",
       "      <td>2</td>\n",
       "      <td>548</td>\n",
       "      <td>NaN</td>\n",
       "      <td>NaN</td>\n",
       "      <td>208500</td>\n",
       "    </tr>\n",
       "    <tr>\n",
       "      <th>1</th>\n",
       "      <td>2</td>\n",
       "      <td>6</td>\n",
       "      <td>1976</td>\n",
       "      <td>1262</td>\n",
       "      <td>SBrkr</td>\n",
       "      <td>1262</td>\n",
       "      <td>2</td>\n",
       "      <td>Attchd</td>\n",
       "      <td>2</td>\n",
       "      <td>460</td>\n",
       "      <td>NaN</td>\n",
       "      <td>NaN</td>\n",
       "      <td>181500</td>\n",
       "    </tr>\n",
       "    <tr>\n",
       "      <th>2</th>\n",
       "      <td>3</td>\n",
       "      <td>7</td>\n",
       "      <td>2001</td>\n",
       "      <td>920</td>\n",
       "      <td>SBrkr</td>\n",
       "      <td>1786</td>\n",
       "      <td>2</td>\n",
       "      <td>Attchd</td>\n",
       "      <td>2</td>\n",
       "      <td>608</td>\n",
       "      <td>NaN</td>\n",
       "      <td>NaN</td>\n",
       "      <td>223500</td>\n",
       "    </tr>\n",
       "    <tr>\n",
       "      <th>3</th>\n",
       "      <td>4</td>\n",
       "      <td>7</td>\n",
       "      <td>1915</td>\n",
       "      <td>756</td>\n",
       "      <td>SBrkr</td>\n",
       "      <td>1717</td>\n",
       "      <td>1</td>\n",
       "      <td>Detchd</td>\n",
       "      <td>3</td>\n",
       "      <td>642</td>\n",
       "      <td>NaN</td>\n",
       "      <td>NaN</td>\n",
       "      <td>140000</td>\n",
       "    </tr>\n",
       "    <tr>\n",
       "      <th>4</th>\n",
       "      <td>5</td>\n",
       "      <td>8</td>\n",
       "      <td>2000</td>\n",
       "      <td>1145</td>\n",
       "      <td>SBrkr</td>\n",
       "      <td>2198</td>\n",
       "      <td>2</td>\n",
       "      <td>Attchd</td>\n",
       "      <td>3</td>\n",
       "      <td>836</td>\n",
       "      <td>NaN</td>\n",
       "      <td>NaN</td>\n",
       "      <td>250000</td>\n",
       "    </tr>\n",
       "  </tbody>\n",
       "</table>\n",
       "</div>"
      ],
      "text/plain": [
       "   Id  OverallQual  YearBuilt  TotalBsmtSF Electrical  GrLivArea  FullBath  \\\n",
       "0   1            7       2003          856      SBrkr       1710         2   \n",
       "1   2            6       1976         1262      SBrkr       1262         2   \n",
       "2   3            7       2001          920      SBrkr       1786         2   \n",
       "3   4            7       1915          756      SBrkr       1717         1   \n",
       "4   5            8       2000         1145      SBrkr       2198         2   \n",
       "\n",
       "  GarageType  GarageCars  GarageArea Fence MiscFeature  SalePrice  \n",
       "0     Attchd           2         548   NaN         NaN     208500  \n",
       "1     Attchd           2         460   NaN         NaN     181500  \n",
       "2     Attchd           2         608   NaN         NaN     223500  \n",
       "3     Detchd           3         642   NaN         NaN     140000  \n",
       "4     Attchd           3         836   NaN         NaN     250000  "
      ]
     },
     "execution_count": 210,
     "metadata": {},
     "output_type": "execute_result"
    }
   ],
   "source": [
    "housing = pd.read_csv(r\"E:\\TABLES\\housing data-1.csv\")\n",
    "housing.head()"
   ]
  },
  {
   "cell_type": "code",
   "execution_count": 211,
   "id": "6fbcbe33",
   "metadata": {},
   "outputs": [],
   "source": [
    "# remove any un necessary columns\n",
    "\n",
    "del housing['Id']"
   ]
  },
  {
   "cell_type": "code",
   "execution_count": 212,
   "id": "e8bb3308",
   "metadata": {},
   "outputs": [
    {
     "data": {
      "text/plain": [
       "Index(['OverallQual', 'YearBuilt', 'TotalBsmtSF', 'Electrical', 'GrLivArea',\n",
       "       'FullBath', 'GarageType', 'GarageCars', 'GarageArea', 'Fence',\n",
       "       'MiscFeature', 'SalePrice'],\n",
       "      dtype='object')"
      ]
     },
     "execution_count": 212,
     "metadata": {},
     "output_type": "execute_result"
    }
   ],
   "source": [
    "housing.columns"
   ]
  },
  {
   "cell_type": "code",
   "execution_count": 213,
   "id": "33889e36",
   "metadata": {},
   "outputs": [
    {
     "name": "stdout",
     "output_type": "stream",
     "text": [
      "Rows 1418\n",
      "Columns 12\n"
     ]
    }
   ],
   "source": [
    "# how many row and columns\n",
    "\n",
    "print('Rows', housing.shape[0])\n",
    "print('Columns', housing.shape[1])"
   ]
  },
  {
   "cell_type": "code",
   "execution_count": 214,
   "id": "d09c6a77",
   "metadata": {},
   "outputs": [
    {
     "data": {
      "text/html": [
       "<div>\n",
       "<style scoped>\n",
       "    .dataframe tbody tr th:only-of-type {\n",
       "        vertical-align: middle;\n",
       "    }\n",
       "\n",
       "    .dataframe tbody tr th {\n",
       "        vertical-align: top;\n",
       "    }\n",
       "\n",
       "    .dataframe thead th {\n",
       "        text-align: right;\n",
       "    }\n",
       "</style>\n",
       "<table border=\"1\" class=\"dataframe\">\n",
       "  <thead>\n",
       "    <tr style=\"text-align: right;\">\n",
       "      <th></th>\n",
       "      <th>count</th>\n",
       "      <th>mean</th>\n",
       "      <th>std</th>\n",
       "      <th>min</th>\n",
       "      <th>25%</th>\n",
       "      <th>50%</th>\n",
       "      <th>75%</th>\n",
       "      <th>max</th>\n",
       "    </tr>\n",
       "  </thead>\n",
       "  <tbody>\n",
       "    <tr>\n",
       "      <th>OverallQual</th>\n",
       "      <td>1418.0</td>\n",
       "      <td>6.114245</td>\n",
       "      <td>1.385858</td>\n",
       "      <td>1.0</td>\n",
       "      <td>5.00</td>\n",
       "      <td>6.0</td>\n",
       "      <td>7.0</td>\n",
       "      <td>10.0</td>\n",
       "    </tr>\n",
       "    <tr>\n",
       "      <th>YearBuilt</th>\n",
       "      <td>1418.0</td>\n",
       "      <td>1971.600846</td>\n",
       "      <td>30.064293</td>\n",
       "      <td>1872.0</td>\n",
       "      <td>1954.00</td>\n",
       "      <td>1973.0</td>\n",
       "      <td>2001.0</td>\n",
       "      <td>2010.0</td>\n",
       "    </tr>\n",
       "    <tr>\n",
       "      <th>TotalBsmtSF</th>\n",
       "      <td>1418.0</td>\n",
       "      <td>1061.712271</td>\n",
       "      <td>437.277589</td>\n",
       "      <td>0.0</td>\n",
       "      <td>796.50</td>\n",
       "      <td>994.0</td>\n",
       "      <td>1303.5</td>\n",
       "      <td>6110.0</td>\n",
       "    </tr>\n",
       "    <tr>\n",
       "      <th>GrLivArea</th>\n",
       "      <td>1418.0</td>\n",
       "      <td>1519.645275</td>\n",
       "      <td>527.412584</td>\n",
       "      <td>334.0</td>\n",
       "      <td>1132.50</td>\n",
       "      <td>1468.5</td>\n",
       "      <td>1786.0</td>\n",
       "      <td>5642.0</td>\n",
       "    </tr>\n",
       "    <tr>\n",
       "      <th>FullBath</th>\n",
       "      <td>1418.0</td>\n",
       "      <td>1.565585</td>\n",
       "      <td>0.551127</td>\n",
       "      <td>0.0</td>\n",
       "      <td>1.00</td>\n",
       "      <td>2.0</td>\n",
       "      <td>2.0</td>\n",
       "      <td>3.0</td>\n",
       "    </tr>\n",
       "    <tr>\n",
       "      <th>GarageCars</th>\n",
       "      <td>1418.0</td>\n",
       "      <td>1.763752</td>\n",
       "      <td>0.755995</td>\n",
       "      <td>0.0</td>\n",
       "      <td>1.00</td>\n",
       "      <td>2.0</td>\n",
       "      <td>2.0</td>\n",
       "      <td>4.0</td>\n",
       "    </tr>\n",
       "    <tr>\n",
       "      <th>GarageArea</th>\n",
       "      <td>1418.0</td>\n",
       "      <td>472.617772</td>\n",
       "      <td>216.068677</td>\n",
       "      <td>0.0</td>\n",
       "      <td>324.25</td>\n",
       "      <td>478.0</td>\n",
       "      <td>576.0</td>\n",
       "      <td>1418.0</td>\n",
       "    </tr>\n",
       "    <tr>\n",
       "      <th>SalePrice</th>\n",
       "      <td>1418.0</td>\n",
       "      <td>182089.485896</td>\n",
       "      <td>79970.934085</td>\n",
       "      <td>34900.0</td>\n",
       "      <td>130000.00</td>\n",
       "      <td>164800.0</td>\n",
       "      <td>215000.0</td>\n",
       "      <td>755000.0</td>\n",
       "    </tr>\n",
       "  </tbody>\n",
       "</table>\n",
       "</div>"
      ],
      "text/plain": [
       "              count           mean           std      min        25%  \\\n",
       "OverallQual  1418.0       6.114245      1.385858      1.0       5.00   \n",
       "YearBuilt    1418.0    1971.600846     30.064293   1872.0    1954.00   \n",
       "TotalBsmtSF  1418.0    1061.712271    437.277589      0.0     796.50   \n",
       "GrLivArea    1418.0    1519.645275    527.412584    334.0    1132.50   \n",
       "FullBath     1418.0       1.565585      0.551127      0.0       1.00   \n",
       "GarageCars   1418.0       1.763752      0.755995      0.0       1.00   \n",
       "GarageArea   1418.0     472.617772    216.068677      0.0     324.25   \n",
       "SalePrice    1418.0  182089.485896  79970.934085  34900.0  130000.00   \n",
       "\n",
       "                  50%       75%       max  \n",
       "OverallQual       6.0       7.0      10.0  \n",
       "YearBuilt      1973.0    2001.0    2010.0  \n",
       "TotalBsmtSF     994.0    1303.5    6110.0  \n",
       "GrLivArea      1468.5    1786.0    5642.0  \n",
       "FullBath          2.0       2.0       3.0  \n",
       "GarageCars        2.0       2.0       4.0  \n",
       "GarageArea      478.0     576.0    1418.0  \n",
       "SalePrice    164800.0  215000.0  755000.0  "
      ]
     },
     "execution_count": 214,
     "metadata": {},
     "output_type": "execute_result"
    }
   ],
   "source": [
    "# 5point summary\n",
    "\n",
    "housing.describe().T"
   ]
  },
  {
   "cell_type": "markdown",
   "id": "bbade01a",
   "metadata": {},
   "source": [
    "#### Assumptions:\n",
    "\n",
    "* Columns SalePrice, GrLivAreA, GarageArea, TotalBsmtSF are right skewed and might have outliers.\n",
    "* GarageCars, FullBath & OverallQual are Number categories.\n",
    "* YearBuilt is the age of the property between 1872 to 2010."
   ]
  },
  {
   "cell_type": "code",
   "execution_count": 215,
   "id": "47b46f0b",
   "metadata": {},
   "outputs": [
    {
     "data": {
      "text/html": [
       "<div>\n",
       "<style scoped>\n",
       "    .dataframe tbody tr th:only-of-type {\n",
       "        vertical-align: middle;\n",
       "    }\n",
       "\n",
       "    .dataframe tbody tr th {\n",
       "        vertical-align: top;\n",
       "    }\n",
       "\n",
       "    .dataframe thead th {\n",
       "        text-align: right;\n",
       "    }\n",
       "</style>\n",
       "<table border=\"1\" class=\"dataframe\">\n",
       "  <thead>\n",
       "    <tr style=\"text-align: right;\">\n",
       "      <th></th>\n",
       "      <th>count</th>\n",
       "      <th>unique</th>\n",
       "      <th>top</th>\n",
       "      <th>freq</th>\n",
       "    </tr>\n",
       "  </thead>\n",
       "  <tbody>\n",
       "    <tr>\n",
       "      <th>Electrical</th>\n",
       "      <td>1417</td>\n",
       "      <td>5</td>\n",
       "      <td>SBrkr</td>\n",
       "      <td>1300</td>\n",
       "    </tr>\n",
       "    <tr>\n",
       "      <th>GarageType</th>\n",
       "      <td>1275</td>\n",
       "      <td>6</td>\n",
       "      <td>Attchd</td>\n",
       "      <td>800</td>\n",
       "    </tr>\n",
       "    <tr>\n",
       "      <th>Fence</th>\n",
       "      <td>270</td>\n",
       "      <td>4</td>\n",
       "      <td>MnPrv</td>\n",
       "      <td>148</td>\n",
       "    </tr>\n",
       "    <tr>\n",
       "      <th>MiscFeature</th>\n",
       "      <td>52</td>\n",
       "      <td>4</td>\n",
       "      <td>Shed</td>\n",
       "      <td>47</td>\n",
       "    </tr>\n",
       "  </tbody>\n",
       "</table>\n",
       "</div>"
      ],
      "text/plain": [
       "            count unique     top  freq\n",
       "Electrical   1417      5   SBrkr  1300\n",
       "GarageType   1275      6  Attchd   800\n",
       "Fence         270      4   MnPrv   148\n",
       "MiscFeature    52      4    Shed    47"
      ]
     },
     "execution_count": 215,
     "metadata": {},
     "output_type": "execute_result"
    }
   ],
   "source": [
    "housing.describe(include='object').T"
   ]
  },
  {
   "cell_type": "markdown",
   "id": "e7ba6ba4",
   "metadata": {},
   "source": [
    "* Most of the electrical is 'SrBrkr'(mode)\n",
    "* Very few values in Fence and MiscFeature "
   ]
  },
  {
   "cell_type": "markdown",
   "id": "337977f7",
   "metadata": {},
   "source": [
    "#### Draw heatmap to show the correlation b/w the features"
   ]
  },
  {
   "cell_type": "code",
   "execution_count": 216,
   "id": "0c301052",
   "metadata": {},
   "outputs": [
    {
     "data": {
      "image/png": "[encoded data removed]",
      "text/plain": [
       "<Figure size 720x360 with 2 Axes>"
      ]
     },
     "metadata": {
      "needs_background": "light"
     },
     "output_type": "display_data"
    }
   ],
   "source": [
    "plt.figure(figsize = (10,5))\n",
    "\n",
    "sns.heatmap(housing.corr(), annot=True, vmax=1, vmin=-1, cmap='RdBu')\n",
    "plt.show()"
   ]
  },
  {
   "cell_type": "markdown",
   "id": "6d37eb32",
   "metadata": {},
   "source": [
    "#### Inferences:\n",
    "\n",
    "* The target variable has max corr with overall quality, GrLvlArea & GarageArea\n",
    "* These corr are highly affected by the outliers. Values of corr matrix might change after outlier treatment."
   ]
  },
  {
   "cell_type": "markdown",
   "id": "e410de61",
   "metadata": {},
   "source": [
    "##### Seperate the category cols and number cols from the dataset and perform the *Univariate Analysis*"
   ]
  },
  {
   "cell_type": "code",
   "execution_count": 217,
   "id": "73726221",
   "metadata": {},
   "outputs": [],
   "source": [
    "num_cols = ['YearBuilt', 'TotalBsmtSF', 'GrLivArea', 'GarageArea', 'SalePrice']\n",
    "cat_cols = ['OverallQual', 'FullBath', 'GarageCars', 'Electrical', 'GarageType', 'Fence', 'MiscFeature']"
   ]
  },
  {
   "cell_type": "code",
   "execution_count": 218,
   "id": "f4505346",
   "metadata": {},
   "outputs": [
    {
     "data": {
      "text/plain": [
       "['YearBuilt', 'TotalBsmtSF', 'GrLivArea', 'GarageArea', 'SalePrice']"
      ]
     },
     "execution_count": 218,
     "metadata": {},
     "output_type": "execute_result"
    }
   ],
   "source": [
    "num_cols"
   ]
  },
  {
   "cell_type": "code",
   "execution_count": 219,
   "id": "f45ff0f7",
   "metadata": {},
   "outputs": [
    {
     "data": {
      "text/plain": [
       "['OverallQual',\n",
       " 'FullBath',\n",
       " 'GarageCars',\n",
       " 'Electrical',\n",
       " 'GarageType',\n",
       " 'Fence',\n",
       " 'MiscFeature']"
      ]
     },
     "execution_count": 219,
     "metadata": {},
     "output_type": "execute_result"
    }
   ],
   "source": [
    "cat_cols"
   ]
  },
  {
   "cell_type": "code",
   "execution_count": 220,
   "id": "b02e6ecb",
   "metadata": {},
   "outputs": [
    {
     "data": {
      "image/png": "[encoded data removed]",
      "text/plain": [
       "<Figure size 1080x864 with 5 Axes>"
      ]
     },
     "metadata": {
      "needs_background": "light"
     },
     "output_type": "display_data"
    }
   ],
   "source": [
    "num_vars = ['YearBuilt', 'TotalBsmtSF', 'GrLivArea', 'GarageArea', 'SalePrice']\n",
    "\n",
    "nrows = 3\n",
    "ncols = 2\n",
    "repeater = 1\n",
    "\n",
    "plt.figure(figsize = (15,12))\n",
    "for i in num_vars:\n",
    "    plt.subplot(nrows,ncols,repeater)\n",
    "    sns.distplot(housing[i])\n",
    "    plt.title(f'Skewness: {round(housing[i].skew(),2)}')\n",
    "    repeater+=1\n",
    "    \n",
    "plt.tight_layout()\n",
    "plt.show()"
   ]
  },
  {
   "cell_type": "markdown",
   "id": "522e7b12",
   "metadata": {},
   "source": [
    "#### Inferences:\n",
    "\n",
    "* "
   ]
  },
  {
   "cell_type": "code",
   "execution_count": 221,
   "id": "b9a580b6",
   "metadata": {},
   "outputs": [
    {
     "data": {
      "image/png": "[encoded data removed]",
      "text/plain": [
       "<Figure size 1080x864 with 5 Axes>"
      ]
     },
     "metadata": {
      "needs_background": "light"
     },
     "output_type": "display_data"
    }
   ],
   "source": [
    "num_vars = ['YearBuilt', 'TotalBsmtSF', 'GrLivArea', 'GarageArea', 'SalePrice']\n",
    "\n",
    "nrows = 3\n",
    "ncols = 2\n",
    "repeater = 1\n",
    "\n",
    "plt.figure(figsize = (15,12))\n",
    "for i in num_vars:\n",
    "    plt.subplot(nrows,ncols,repeater)\n",
    "    sns.boxplot(housing[i])\n",
    "    plt.title(f'Skewness: {round(housing[i].skew(),2)}')\n",
    "    repeater+=1\n",
    "    \n",
    "plt.tight_layout()\n",
    "plt.show()"
   ]
  },
  {
   "cell_type": "code",
   "execution_count": 222,
   "id": "55d49684",
   "metadata": {},
   "outputs": [
    {
     "data": {
      "image/png": "[encoded data removed]",
      "text/plain": [
       "<Figure size 1224x1440 with 7 Axes>"
      ]
     },
     "metadata": {
      "needs_background": "light"
     },
     "output_type": "display_data"
    }
   ],
   "source": [
    "cats = ['OverallQual',\n",
    " 'FullBath',\n",
    " 'GarageCars',\n",
    " 'Electrical',\n",
    " 'GarageType',\n",
    " 'Fence',\n",
    " 'MiscFeature']\n",
    "\n",
    "\n",
    "nrows = 4\n",
    "ncols = 2\n",
    "repeater = 1\n",
    "\n",
    "plt.figure(figsize = (17,20))\n",
    "for i in cats:\n",
    "    plt.subplot(nrows,ncols,repeater)\n",
    "    sns.countplot(housing[i])\n",
    "    repeater+=1\n",
    "    \n",
    "    \n",
    "plt.tight_layout()\n",
    "plt.show()"
   ]
  },
  {
   "cell_type": "markdown",
   "id": "7b54f754",
   "metadata": {},
   "source": [
    "#### Inferences\n",
    "\n",
    "* Most of the houses have overall quality 5,6 & 7\n",
    "* Almost all properties have 1 & 2 Fullbaths\n",
    "* Most of the houses have facility to park 2 cars.\n",
    "* Most of Garages are attached to the property\n"
   ]
  },
  {
   "cell_type": "markdown",
   "id": "5134e370",
   "metadata": {},
   "source": [
    "### BiVariate Analysis "
   ]
  },
  {
   "cell_type": "code",
   "execution_count": 223,
   "id": "f04dc88d",
   "metadata": {},
   "outputs": [
    {
     "data": {
      "image/png": "[encoded data removed]",
      "text/plain": [
       "<Figure size 864x504 with 4 Axes>"
      ]
     },
     "metadata": {
      "needs_background": "light"
     },
     "output_type": "display_data"
    }
   ],
   "source": [
    "nrows = 2\n",
    "ncols = 2\n",
    "repeater = 1\n",
    "\n",
    "plt.figure(figsize=(12,7))\n",
    "for i in num_vars:\n",
    "    if i != 'SalePrice':\n",
    "        plt.subplot(nrows,ncols,repeater)\n",
    "        sns.regplot(data= housing, x=housing['SalePrice'], y=housing[i], ci=0, line_kws={'color':'red'})\n",
    "        repeater+=1\n",
    "    \n",
    "plt.tight_layout()\n",
    "plt.show()"
   ]
  },
  {
   "cell_type": "code",
   "execution_count": 224,
   "id": "584327e1",
   "metadata": {},
   "outputs": [
    {
     "data": {
      "image/png": "[encoded data removed]",
      "text/plain": [
       "<Figure size 720x864 with 7 Axes>"
      ]
     },
     "metadata": {
      "needs_background": "light"
     },
     "output_type": "display_data"
    }
   ],
   "source": [
    "nrows = 4\n",
    "ncols = 2\n",
    "repeater = 1\n",
    "\n",
    "plt.figure(figsize=(10,12))\n",
    "for i in cats:\n",
    "    plt.subplot(nrows,ncols,repeater)\n",
    "    sns.boxplot(data= housing, x=i, y='SalePrice')\n",
    "    repeater+=1\n",
    "    \n",
    "plt.tight_layout()\n",
    "plt.show()"
   ]
  },
  {
   "cell_type": "code",
   "execution_count": 225,
   "id": "3e6ec5ed",
   "metadata": {},
   "outputs": [
    {
     "data": {
      "image/png": "[encoded data removed]",
      "text/plain": [
       "<Figure size 864x1080 with 7 Axes>"
      ]
     },
     "metadata": {
      "needs_background": "light"
     },
     "output_type": "display_data"
    }
   ],
   "source": [
    "nrows = 4\n",
    "ncols = 2\n",
    "repeater = 1\n",
    "\n",
    "plt.figure(figsize=(12,15))\n",
    "for i in cats:\n",
    "    plt.subplot(nrows,ncols,repeater)\n",
    "    housing.groupby(by=i)['SalePrice'].mean().plot(kind='bar')\n",
    "    repeater+=1\n",
    "    \n",
    "plt.tight_layout()\n",
    "plt.show()"
   ]
  },
  {
   "cell_type": "markdown",
   "id": "ba74bc55",
   "metadata": {},
   "source": [
    "##### Treat the Defects in the DataSet\n",
    "##### Treat the Missing Values and the Outliers"
   ]
  },
  {
   "cell_type": "markdown",
   "id": "af9bcc98",
   "metadata": {},
   "source": [
    "#### Missing Value Treatment\n",
    "\n",
    "* Closest Fit\n",
    "* Central Value Imputation\n",
    "* Deletion"
   ]
  },
  {
   "cell_type": "code",
   "execution_count": 226,
   "id": "db67b831",
   "metadata": {},
   "outputs": [
    {
     "data": {
      "text/plain": [
       "OverallQual       0\n",
       "YearBuilt         0\n",
       "TotalBsmtSF       0\n",
       "Electrical        1\n",
       "GrLivArea         0\n",
       "FullBath          0\n",
       "GarageType      143\n",
       "GarageCars        0\n",
       "GarageArea        0\n",
       "Fence          1148\n",
       "MiscFeature    1366\n",
       "SalePrice         0\n",
       "dtype: int64"
      ]
     },
     "execution_count": 226,
     "metadata": {},
     "output_type": "execute_result"
    }
   ],
   "source": [
    "housing.isnull().sum()"
   ]
  },
  {
   "cell_type": "code",
   "execution_count": 227,
   "id": "7a9d3150",
   "metadata": {},
   "outputs": [
    {
     "data": {
      "text/plain": [
       "OverallQual     0.000000\n",
       "YearBuilt       0.000000\n",
       "TotalBsmtSF     0.000000\n",
       "Electrical      0.070522\n",
       "GrLivArea       0.000000\n",
       "FullBath        0.000000\n",
       "GarageType     10.084626\n",
       "GarageCars      0.000000\n",
       "GarageArea      0.000000\n",
       "Fence          80.959097\n",
       "MiscFeature    96.332863\n",
       "SalePrice       0.000000\n",
       "dtype: float64"
      ]
     },
     "execution_count": 227,
     "metadata": {},
     "output_type": "execute_result"
    }
   ],
   "source": [
    "(housing.isnull().sum()/housing.shape[0])*100"
   ]
  },
  {
   "cell_type": "code",
   "execution_count": 228,
   "id": "df1893ff",
   "metadata": {},
   "outputs": [
    {
     "data": {
      "text/plain": [
       "MiscFeature    96.332863\n",
       "Fence          80.959097\n",
       "GarageType     10.084626\n",
       "Electrical      0.070522\n",
       "OverallQual     0.000000\n",
       "YearBuilt       0.000000\n",
       "TotalBsmtSF     0.000000\n",
       "GrLivArea       0.000000\n",
       "FullBath        0.000000\n",
       "GarageCars      0.000000\n",
       "GarageArea      0.000000\n",
       "SalePrice       0.000000\n",
       "dtype: float64"
      ]
     },
     "execution_count": 228,
     "metadata": {},
     "output_type": "execute_result"
    }
   ],
   "source": [
    "((housing.isnull().sum()/housing.shape[0])*100).sort_values(ascending=False)"
   ]
  },
  {
   "cell_type": "code",
   "execution_count": 229,
   "id": "68bfb2d9",
   "metadata": {},
   "outputs": [
    {
     "data": {
      "text/html": [
       "<div>\n",
       "<style scoped>\n",
       "    .dataframe tbody tr th:only-of-type {\n",
       "        vertical-align: middle;\n",
       "    }\n",
       "\n",
       "    .dataframe tbody tr th {\n",
       "        vertical-align: top;\n",
       "    }\n",
       "\n",
       "    .dataframe thead th {\n",
       "        text-align: right;\n",
       "    }\n",
       "</style>\n",
       "<table border=\"1\" class=\"dataframe\">\n",
       "  <thead>\n",
       "    <tr style=\"text-align: right;\">\n",
       "      <th></th>\n",
       "      <th>OverallQual</th>\n",
       "      <th>YearBuilt</th>\n",
       "      <th>TotalBsmtSF</th>\n",
       "      <th>Electrical</th>\n",
       "      <th>GrLivArea</th>\n",
       "      <th>FullBath</th>\n",
       "      <th>GarageType</th>\n",
       "      <th>GarageCars</th>\n",
       "      <th>GarageArea</th>\n",
       "      <th>Fence</th>\n",
       "      <th>MiscFeature</th>\n",
       "      <th>SalePrice</th>\n",
       "    </tr>\n",
       "  </thead>\n",
       "  <tbody>\n",
       "    <tr>\n",
       "      <th>8</th>\n",
       "      <td>5</td>\n",
       "      <td>1939</td>\n",
       "      <td>991</td>\n",
       "      <td>SBrkr</td>\n",
       "      <td>1077</td>\n",
       "      <td>1</td>\n",
       "      <td>NaN</td>\n",
       "      <td>1</td>\n",
       "      <td>205</td>\n",
       "      <td>NaN</td>\n",
       "      <td>NaN</td>\n",
       "      <td>118000</td>\n",
       "    </tr>\n",
       "    <tr>\n",
       "      <th>22</th>\n",
       "      <td>5</td>\n",
       "      <td>1968</td>\n",
       "      <td>1060</td>\n",
       "      <td>SBrkr</td>\n",
       "      <td>1060</td>\n",
       "      <td>1</td>\n",
       "      <td>NaN</td>\n",
       "      <td>1</td>\n",
       "      <td>270</td>\n",
       "      <td>MnPrv</td>\n",
       "      <td>NaN</td>\n",
       "      <td>154000</td>\n",
       "    </tr>\n",
       "    <tr>\n",
       "      <th>26</th>\n",
       "      <td>5</td>\n",
       "      <td>1957</td>\n",
       "      <td>1484</td>\n",
       "      <td>SBrkr</td>\n",
       "      <td>1600</td>\n",
       "      <td>1</td>\n",
       "      <td>NaN</td>\n",
       "      <td>1</td>\n",
       "      <td>319</td>\n",
       "      <td>NaN</td>\n",
       "      <td>NaN</td>\n",
       "      <td>207500</td>\n",
       "    </tr>\n",
       "    <tr>\n",
       "      <th>37</th>\n",
       "      <td>4</td>\n",
       "      <td>1955</td>\n",
       "      <td>0</td>\n",
       "      <td>FuseP</td>\n",
       "      <td>1152</td>\n",
       "      <td>2</td>\n",
       "      <td>NaN</td>\n",
       "      <td>0</td>\n",
       "      <td>0</td>\n",
       "      <td>NaN</td>\n",
       "      <td>NaN</td>\n",
       "      <td>82000</td>\n",
       "    </tr>\n",
       "    <tr>\n",
       "      <th>39</th>\n",
       "      <td>5</td>\n",
       "      <td>1959</td>\n",
       "      <td>1350</td>\n",
       "      <td>SBrkr</td>\n",
       "      <td>1328</td>\n",
       "      <td>1</td>\n",
       "      <td>NaN</td>\n",
       "      <td>1</td>\n",
       "      <td>308</td>\n",
       "      <td>NaN</td>\n",
       "      <td>NaN</td>\n",
       "      <td>170000</td>\n",
       "    </tr>\n",
       "    <tr>\n",
       "      <th>...</th>\n",
       "      <td>...</td>\n",
       "      <td>...</td>\n",
       "      <td>...</td>\n",
       "      <td>...</td>\n",
       "      <td>...</td>\n",
       "      <td>...</td>\n",
       "      <td>...</td>\n",
       "      <td>...</td>\n",
       "      <td>...</td>\n",
       "      <td>...</td>\n",
       "      <td>...</td>\n",
       "      <td>...</td>\n",
       "    </tr>\n",
       "    <tr>\n",
       "      <th>1387</th>\n",
       "      <td>5</td>\n",
       "      <td>1940</td>\n",
       "      <td>788</td>\n",
       "      <td>SBrkr</td>\n",
       "      <td>804</td>\n",
       "      <td>1</td>\n",
       "      <td>NaN</td>\n",
       "      <td>1</td>\n",
       "      <td>240</td>\n",
       "      <td>MnPrv</td>\n",
       "      <td>NaN</td>\n",
       "      <td>119000</td>\n",
       "    </tr>\n",
       "    <tr>\n",
       "      <th>1407</th>\n",
       "      <td>5</td>\n",
       "      <td>1970</td>\n",
       "      <td>630</td>\n",
       "      <td>SBrkr</td>\n",
       "      <td>630</td>\n",
       "      <td>1</td>\n",
       "      <td>NaN</td>\n",
       "      <td>0</td>\n",
       "      <td>0</td>\n",
       "      <td>NaN</td>\n",
       "      <td>NaN</td>\n",
       "      <td>92000</td>\n",
       "    </tr>\n",
       "    <tr>\n",
       "      <th>1408</th>\n",
       "      <td>5</td>\n",
       "      <td>1974</td>\n",
       "      <td>896</td>\n",
       "      <td>SBrkr</td>\n",
       "      <td>1792</td>\n",
       "      <td>2</td>\n",
       "      <td>NaN</td>\n",
       "      <td>0</td>\n",
       "      <td>0</td>\n",
       "      <td>NaN</td>\n",
       "      <td>NaN</td>\n",
       "      <td>136000</td>\n",
       "    </tr>\n",
       "    <tr>\n",
       "      <th>1411</th>\n",
       "      <td>5</td>\n",
       "      <td>2006</td>\n",
       "      <td>1140</td>\n",
       "      <td>SBrkr</td>\n",
       "      <td>1140</td>\n",
       "      <td>1</td>\n",
       "      <td>NaN</td>\n",
       "      <td>0</td>\n",
       "      <td>0</td>\n",
       "      <td>NaN</td>\n",
       "      <td>NaN</td>\n",
       "      <td>84500</td>\n",
       "    </tr>\n",
       "    <tr>\n",
       "      <th>1416</th>\n",
       "      <td>5</td>\n",
       "      <td>1950</td>\n",
       "      <td>1078</td>\n",
       "      <td>FuseA</td>\n",
       "      <td>1078</td>\n",
       "      <td>1</td>\n",
       "      <td>NaN</td>\n",
       "      <td>1</td>\n",
       "      <td>240</td>\n",
       "      <td>NaN</td>\n",
       "      <td>NaN</td>\n",
       "      <td>142125</td>\n",
       "    </tr>\n",
       "  </tbody>\n",
       "</table>\n",
       "<p>143 rows × 12 columns</p>\n",
       "</div>"
      ],
      "text/plain": [
       "      OverallQual  YearBuilt  TotalBsmtSF Electrical  GrLivArea  FullBath  \\\n",
       "8               5       1939          991      SBrkr       1077         1   \n",
       "22              5       1968         1060      SBrkr       1060         1   \n",
       "26              5       1957         1484      SBrkr       1600         1   \n",
       "37              4       1955            0      FuseP       1152         2   \n",
       "39              5       1959         1350      SBrkr       1328         1   \n",
       "...           ...        ...          ...        ...        ...       ...   \n",
       "1387            5       1940          788      SBrkr        804         1   \n",
       "1407            5       1970          630      SBrkr        630         1   \n",
       "1408            5       1974          896      SBrkr       1792         2   \n",
       "1411            5       2006         1140      SBrkr       1140         1   \n",
       "1416            5       1950         1078      FuseA       1078         1   \n",
       "\n",
       "     GarageType  GarageCars  GarageArea  Fence MiscFeature  SalePrice  \n",
       "8           NaN           1         205    NaN         NaN     118000  \n",
       "22          NaN           1         270  MnPrv         NaN     154000  \n",
       "26          NaN           1         319    NaN         NaN     207500  \n",
       "37          NaN           0           0    NaN         NaN      82000  \n",
       "39          NaN           1         308    NaN         NaN     170000  \n",
       "...         ...         ...         ...    ...         ...        ...  \n",
       "1387        NaN           1         240  MnPrv         NaN     119000  \n",
       "1407        NaN           0           0    NaN         NaN      92000  \n",
       "1408        NaN           0           0    NaN         NaN     136000  \n",
       "1411        NaN           0           0    NaN         NaN      84500  \n",
       "1416        NaN           1         240    NaN         NaN     142125  \n",
       "\n",
       "[143 rows x 12 columns]"
      ]
     },
     "execution_count": 229,
     "metadata": {},
     "output_type": "execute_result"
    }
   ],
   "source": [
    "housing[housing['GarageType'].isnull()]"
   ]
  },
  {
   "cell_type": "code",
   "execution_count": 230,
   "id": "9b9caaf7",
   "metadata": {},
   "outputs": [],
   "source": [
    "housing['GarageType'] = np.where((housing['GarageCars']==0)&\\\n",
    "                                (housing['GarageArea']==0), 'NoGarage', housing['GarageType'])"
   ]
  },
  {
   "cell_type": "code",
   "execution_count": 231,
   "id": "f82696b0",
   "metadata": {},
   "outputs": [
    {
     "data": {
      "text/html": [
       "<div>\n",
       "<style scoped>\n",
       "    .dataframe tbody tr th:only-of-type {\n",
       "        vertical-align: middle;\n",
       "    }\n",
       "\n",
       "    .dataframe tbody tr th {\n",
       "        vertical-align: top;\n",
       "    }\n",
       "\n",
       "    .dataframe thead th {\n",
       "        text-align: right;\n",
       "    }\n",
       "</style>\n",
       "<table border=\"1\" class=\"dataframe\">\n",
       "  <thead>\n",
       "    <tr style=\"text-align: right;\">\n",
       "      <th></th>\n",
       "      <th>OverallQual</th>\n",
       "      <th>YearBuilt</th>\n",
       "      <th>TotalBsmtSF</th>\n",
       "      <th>Electrical</th>\n",
       "      <th>GrLivArea</th>\n",
       "      <th>FullBath</th>\n",
       "      <th>GarageType</th>\n",
       "      <th>GarageCars</th>\n",
       "      <th>GarageArea</th>\n",
       "      <th>Fence</th>\n",
       "      <th>MiscFeature</th>\n",
       "      <th>SalePrice</th>\n",
       "    </tr>\n",
       "  </thead>\n",
       "  <tbody>\n",
       "    <tr>\n",
       "      <th>8</th>\n",
       "      <td>5</td>\n",
       "      <td>1939</td>\n",
       "      <td>991</td>\n",
       "      <td>SBrkr</td>\n",
       "      <td>1077</td>\n",
       "      <td>1</td>\n",
       "      <td>NaN</td>\n",
       "      <td>1</td>\n",
       "      <td>205</td>\n",
       "      <td>NaN</td>\n",
       "      <td>NaN</td>\n",
       "      <td>118000</td>\n",
       "    </tr>\n",
       "    <tr>\n",
       "      <th>22</th>\n",
       "      <td>5</td>\n",
       "      <td>1968</td>\n",
       "      <td>1060</td>\n",
       "      <td>SBrkr</td>\n",
       "      <td>1060</td>\n",
       "      <td>1</td>\n",
       "      <td>NaN</td>\n",
       "      <td>1</td>\n",
       "      <td>270</td>\n",
       "      <td>MnPrv</td>\n",
       "      <td>NaN</td>\n",
       "      <td>154000</td>\n",
       "    </tr>\n",
       "    <tr>\n",
       "      <th>26</th>\n",
       "      <td>5</td>\n",
       "      <td>1957</td>\n",
       "      <td>1484</td>\n",
       "      <td>SBrkr</td>\n",
       "      <td>1600</td>\n",
       "      <td>1</td>\n",
       "      <td>NaN</td>\n",
       "      <td>1</td>\n",
       "      <td>319</td>\n",
       "      <td>NaN</td>\n",
       "      <td>NaN</td>\n",
       "      <td>207500</td>\n",
       "    </tr>\n",
       "    <tr>\n",
       "      <th>39</th>\n",
       "      <td>5</td>\n",
       "      <td>1959</td>\n",
       "      <td>1350</td>\n",
       "      <td>SBrkr</td>\n",
       "      <td>1328</td>\n",
       "      <td>1</td>\n",
       "      <td>NaN</td>\n",
       "      <td>1</td>\n",
       "      <td>308</td>\n",
       "      <td>NaN</td>\n",
       "      <td>NaN</td>\n",
       "      <td>170000</td>\n",
       "    </tr>\n",
       "    <tr>\n",
       "      <th>47</th>\n",
       "      <td>5</td>\n",
       "      <td>1966</td>\n",
       "      <td>955</td>\n",
       "      <td>SBrkr</td>\n",
       "      <td>955</td>\n",
       "      <td>1</td>\n",
       "      <td>NaN</td>\n",
       "      <td>1</td>\n",
       "      <td>386</td>\n",
       "      <td>MnPrv</td>\n",
       "      <td>NaN</td>\n",
       "      <td>127000</td>\n",
       "    </tr>\n",
       "    <tr>\n",
       "      <th>...</th>\n",
       "      <td>...</td>\n",
       "      <td>...</td>\n",
       "      <td>...</td>\n",
       "      <td>...</td>\n",
       "      <td>...</td>\n",
       "      <td>...</td>\n",
       "      <td>...</td>\n",
       "      <td>...</td>\n",
       "      <td>...</td>\n",
       "      <td>...</td>\n",
       "      <td>...</td>\n",
       "      <td>...</td>\n",
       "    </tr>\n",
       "    <tr>\n",
       "      <th>1263</th>\n",
       "      <td>6</td>\n",
       "      <td>1942</td>\n",
       "      <td>771</td>\n",
       "      <td>SBrkr</td>\n",
       "      <td>1494</td>\n",
       "      <td>1</td>\n",
       "      <td>NaN</td>\n",
       "      <td>1</td>\n",
       "      <td>213</td>\n",
       "      <td>NaN</td>\n",
       "      <td>NaN</td>\n",
       "      <td>177500</td>\n",
       "    </tr>\n",
       "    <tr>\n",
       "      <th>1317</th>\n",
       "      <td>5</td>\n",
       "      <td>1966</td>\n",
       "      <td>864</td>\n",
       "      <td>SBrkr</td>\n",
       "      <td>892</td>\n",
       "      <td>1</td>\n",
       "      <td>NaN</td>\n",
       "      <td>1</td>\n",
       "      <td>264</td>\n",
       "      <td>GdWo</td>\n",
       "      <td>NaN</td>\n",
       "      <td>110000</td>\n",
       "    </tr>\n",
       "    <tr>\n",
       "      <th>1357</th>\n",
       "      <td>5</td>\n",
       "      <td>1950</td>\n",
       "      <td>1208</td>\n",
       "      <td>FuseA</td>\n",
       "      <td>1904</td>\n",
       "      <td>1</td>\n",
       "      <td>NaN</td>\n",
       "      <td>1</td>\n",
       "      <td>240</td>\n",
       "      <td>GdPrv</td>\n",
       "      <td>NaN</td>\n",
       "      <td>138000</td>\n",
       "    </tr>\n",
       "    <tr>\n",
       "      <th>1387</th>\n",
       "      <td>5</td>\n",
       "      <td>1940</td>\n",
       "      <td>788</td>\n",
       "      <td>SBrkr</td>\n",
       "      <td>804</td>\n",
       "      <td>1</td>\n",
       "      <td>NaN</td>\n",
       "      <td>1</td>\n",
       "      <td>240</td>\n",
       "      <td>MnPrv</td>\n",
       "      <td>NaN</td>\n",
       "      <td>119000</td>\n",
       "    </tr>\n",
       "    <tr>\n",
       "      <th>1416</th>\n",
       "      <td>5</td>\n",
       "      <td>1950</td>\n",
       "      <td>1078</td>\n",
       "      <td>FuseA</td>\n",
       "      <td>1078</td>\n",
       "      <td>1</td>\n",
       "      <td>NaN</td>\n",
       "      <td>1</td>\n",
       "      <td>240</td>\n",
       "      <td>NaN</td>\n",
       "      <td>NaN</td>\n",
       "      <td>142125</td>\n",
       "    </tr>\n",
       "  </tbody>\n",
       "</table>\n",
       "<p>62 rows × 12 columns</p>\n",
       "</div>"
      ],
      "text/plain": [
       "      OverallQual  YearBuilt  TotalBsmtSF Electrical  GrLivArea  FullBath  \\\n",
       "8               5       1939          991      SBrkr       1077         1   \n",
       "22              5       1968         1060      SBrkr       1060         1   \n",
       "26              5       1957         1484      SBrkr       1600         1   \n",
       "39              5       1959         1350      SBrkr       1328         1   \n",
       "47              5       1966          955      SBrkr        955         1   \n",
       "...           ...        ...          ...        ...        ...       ...   \n",
       "1263            6       1942          771      SBrkr       1494         1   \n",
       "1317            5       1966          864      SBrkr        892         1   \n",
       "1357            5       1950         1208      FuseA       1904         1   \n",
       "1387            5       1940          788      SBrkr        804         1   \n",
       "1416            5       1950         1078      FuseA       1078         1   \n",
       "\n",
       "     GarageType  GarageCars  GarageArea  Fence MiscFeature  SalePrice  \n",
       "8           NaN           1         205    NaN         NaN     118000  \n",
       "22          NaN           1         270  MnPrv         NaN     154000  \n",
       "26          NaN           1         319    NaN         NaN     207500  \n",
       "39          NaN           1         308    NaN         NaN     170000  \n",
       "47          NaN           1         386  MnPrv         NaN     127000  \n",
       "...         ...         ...         ...    ...         ...        ...  \n",
       "1263        NaN           1         213    NaN         NaN     177500  \n",
       "1317        NaN           1         264   GdWo         NaN     110000  \n",
       "1357        NaN           1         240  GdPrv         NaN     138000  \n",
       "1387        NaN           1         240  MnPrv         NaN     119000  \n",
       "1416        NaN           1         240    NaN         NaN     142125  \n",
       "\n",
       "[62 rows x 12 columns]"
      ]
     },
     "execution_count": 231,
     "metadata": {},
     "output_type": "execute_result"
    }
   ],
   "source": [
    "housing[housing['GarageType'].isnull()]"
   ]
  },
  {
   "cell_type": "code",
   "execution_count": 232,
   "id": "643efd91",
   "metadata": {},
   "outputs": [
    {
     "data": {
      "text/plain": [
       "0    Detchd\n",
       "Name: GarageType, dtype: object"
      ]
     },
     "execution_count": 232,
     "metadata": {},
     "output_type": "execute_result"
    }
   ],
   "source": [
    "housing[housing['GarageCars']==1]['GarageType'].mode()"
   ]
  },
  {
   "cell_type": "code",
   "execution_count": 233,
   "id": "54b6b082",
   "metadata": {},
   "outputs": [
    {
     "data": {
      "text/plain": [
       "Detchd     178\n",
       "Attchd     105\n",
       "BuiltIn      8\n",
       "Basment      8\n",
       "CarPort      3\n",
       "Name: GarageType, dtype: int64"
      ]
     },
     "execution_count": 233,
     "metadata": {},
     "output_type": "execute_result"
    }
   ],
   "source": [
    "housing[housing['GarageCars']==1]['GarageType'].value_counts()"
   ]
  },
  {
   "cell_type": "code",
   "execution_count": 234,
   "id": "de15fbcf",
   "metadata": {},
   "outputs": [
    {
     "data": {
      "text/plain": [
       "0    Attchd\n",
       "Name: GarageType, dtype: object"
      ]
     },
     "execution_count": 234,
     "metadata": {},
     "output_type": "execute_result"
    }
   ],
   "source": [
    "housing['GarageType'].mode()"
   ]
  },
  {
   "cell_type": "code",
   "execution_count": 235,
   "id": "f348ea5f",
   "metadata": {},
   "outputs": [],
   "source": [
    "housing['GarageType'] = np.where(housing['GarageType'].isnull(), 'Detchd', housing['GarageType'])"
   ]
  },
  {
   "cell_type": "code",
   "execution_count": 236,
   "id": "218aa0ea",
   "metadata": {},
   "outputs": [
    {
     "data": {
      "text/html": [
       "<div>\n",
       "<style scoped>\n",
       "    .dataframe tbody tr th:only-of-type {\n",
       "        vertical-align: middle;\n",
       "    }\n",
       "\n",
       "    .dataframe tbody tr th {\n",
       "        vertical-align: top;\n",
       "    }\n",
       "\n",
       "    .dataframe thead th {\n",
       "        text-align: right;\n",
       "    }\n",
       "</style>\n",
       "<table border=\"1\" class=\"dataframe\">\n",
       "  <thead>\n",
       "    <tr style=\"text-align: right;\">\n",
       "      <th></th>\n",
       "      <th>OverallQual</th>\n",
       "      <th>YearBuilt</th>\n",
       "      <th>TotalBsmtSF</th>\n",
       "      <th>Electrical</th>\n",
       "      <th>GrLivArea</th>\n",
       "      <th>FullBath</th>\n",
       "      <th>GarageType</th>\n",
       "      <th>GarageCars</th>\n",
       "      <th>GarageArea</th>\n",
       "      <th>Fence</th>\n",
       "      <th>MiscFeature</th>\n",
       "      <th>SalePrice</th>\n",
       "    </tr>\n",
       "  </thead>\n",
       "  <tbody>\n",
       "  </tbody>\n",
       "</table>\n",
       "</div>"
      ],
      "text/plain": [
       "Empty DataFrame\n",
       "Columns: [OverallQual, YearBuilt, TotalBsmtSF, Electrical, GrLivArea, FullBath, GarageType, GarageCars, GarageArea, Fence, MiscFeature, SalePrice]\n",
       "Index: []"
      ]
     },
     "execution_count": 236,
     "metadata": {},
     "output_type": "execute_result"
    }
   ],
   "source": [
    "housing[housing['GarageType'].isnull()]"
   ]
  },
  {
   "cell_type": "code",
   "execution_count": 237,
   "id": "a517ca72",
   "metadata": {},
   "outputs": [
    {
     "data": {
      "text/html": [
       "<div>\n",
       "<style scoped>\n",
       "    .dataframe tbody tr th:only-of-type {\n",
       "        vertical-align: middle;\n",
       "    }\n",
       "\n",
       "    .dataframe tbody tr th {\n",
       "        vertical-align: top;\n",
       "    }\n",
       "\n",
       "    .dataframe thead th {\n",
       "        text-align: right;\n",
       "    }\n",
       "</style>\n",
       "<table border=\"1\" class=\"dataframe\">\n",
       "  <thead>\n",
       "    <tr style=\"text-align: right;\">\n",
       "      <th></th>\n",
       "      <th>OverallQual</th>\n",
       "      <th>YearBuilt</th>\n",
       "      <th>TotalBsmtSF</th>\n",
       "      <th>Electrical</th>\n",
       "      <th>GrLivArea</th>\n",
       "      <th>FullBath</th>\n",
       "      <th>GarageType</th>\n",
       "      <th>GarageCars</th>\n",
       "      <th>GarageArea</th>\n",
       "      <th>Fence</th>\n",
       "      <th>MiscFeature</th>\n",
       "      <th>SalePrice</th>\n",
       "    </tr>\n",
       "  </thead>\n",
       "  <tbody>\n",
       "    <tr>\n",
       "      <th>1339</th>\n",
       "      <td>5</td>\n",
       "      <td>2006</td>\n",
       "      <td>384</td>\n",
       "      <td>NaN</td>\n",
       "      <td>1394</td>\n",
       "      <td>2</td>\n",
       "      <td>BuiltIn</td>\n",
       "      <td>2</td>\n",
       "      <td>400</td>\n",
       "      <td>NaN</td>\n",
       "      <td>NaN</td>\n",
       "      <td>167500</td>\n",
       "    </tr>\n",
       "  </tbody>\n",
       "</table>\n",
       "</div>"
      ],
      "text/plain": [
       "      OverallQual  YearBuilt  TotalBsmtSF Electrical  GrLivArea  FullBath  \\\n",
       "1339            5       2006          384        NaN       1394         2   \n",
       "\n",
       "     GarageType  GarageCars  GarageArea Fence MiscFeature  SalePrice  \n",
       "1339    BuiltIn           2         400   NaN         NaN     167500  "
      ]
     },
     "execution_count": 237,
     "metadata": {},
     "output_type": "execute_result"
    }
   ],
   "source": [
    "housing[housing['Electrical'].isnull()]"
   ]
  },
  {
   "cell_type": "code",
   "execution_count": 238,
   "id": "f12a87ef",
   "metadata": {},
   "outputs": [
    {
     "data": {
      "text/plain": [
       "0    SBrkr\n",
       "Name: Electrical, dtype: object"
      ]
     },
     "execution_count": 238,
     "metadata": {},
     "output_type": "execute_result"
    }
   ],
   "source": [
    "housing['Electrical'].mode()"
   ]
  },
  {
   "cell_type": "code",
   "execution_count": 239,
   "id": "cbb57738",
   "metadata": {},
   "outputs": [
    {
     "data": {
      "text/plain": [
       "'SBrkr'"
      ]
     },
     "execution_count": 239,
     "metadata": {},
     "output_type": "execute_result"
    }
   ],
   "source": [
    "housing['Electrical'].mode()[0]"
   ]
  },
  {
   "cell_type": "code",
   "execution_count": 240,
   "id": "2c21a00a",
   "metadata": {},
   "outputs": [],
   "source": [
    "housing['Electrical'].fillna(housing['Electrical'].mode()[0], inplace=True)"
   ]
  },
  {
   "cell_type": "code",
   "execution_count": 241,
   "id": "d10d3069",
   "metadata": {},
   "outputs": [
    {
     "data": {
      "text/html": [
       "<div>\n",
       "<style scoped>\n",
       "    .dataframe tbody tr th:only-of-type {\n",
       "        vertical-align: middle;\n",
       "    }\n",
       "\n",
       "    .dataframe tbody tr th {\n",
       "        vertical-align: top;\n",
       "    }\n",
       "\n",
       "    .dataframe thead th {\n",
       "        text-align: right;\n",
       "    }\n",
       "</style>\n",
       "<table border=\"1\" class=\"dataframe\">\n",
       "  <thead>\n",
       "    <tr style=\"text-align: right;\">\n",
       "      <th></th>\n",
       "      <th>OverallQual</th>\n",
       "      <th>YearBuilt</th>\n",
       "      <th>TotalBsmtSF</th>\n",
       "      <th>Electrical</th>\n",
       "      <th>GrLivArea</th>\n",
       "      <th>FullBath</th>\n",
       "      <th>GarageType</th>\n",
       "      <th>GarageCars</th>\n",
       "      <th>GarageArea</th>\n",
       "      <th>Fence</th>\n",
       "      <th>MiscFeature</th>\n",
       "      <th>SalePrice</th>\n",
       "    </tr>\n",
       "  </thead>\n",
       "  <tbody>\n",
       "  </tbody>\n",
       "</table>\n",
       "</div>"
      ],
      "text/plain": [
       "Empty DataFrame\n",
       "Columns: [OverallQual, YearBuilt, TotalBsmtSF, Electrical, GrLivArea, FullBath, GarageType, GarageCars, GarageArea, Fence, MiscFeature, SalePrice]\n",
       "Index: []"
      ]
     },
     "execution_count": 241,
     "metadata": {},
     "output_type": "execute_result"
    }
   ],
   "source": [
    "housing[housing['Electrical'].isnull()]"
   ]
  },
  {
   "cell_type": "markdown",
   "id": "088f91f0",
   "metadata": {},
   "source": [
    "#### Lets Delete MiscFeature and Fence"
   ]
  },
  {
   "cell_type": "code",
   "execution_count": 242,
   "id": "e9e661ac",
   "metadata": {},
   "outputs": [],
   "source": [
    "housing.drop(columns=['Fence', 'MiscFeature'], inplace=True)"
   ]
  },
  {
   "cell_type": "code",
   "execution_count": 243,
   "id": "9c14717e",
   "metadata": {},
   "outputs": [
    {
     "data": {
      "text/plain": [
       "OverallQual    0.0\n",
       "YearBuilt      0.0\n",
       "TotalBsmtSF    0.0\n",
       "Electrical     0.0\n",
       "GrLivArea      0.0\n",
       "FullBath       0.0\n",
       "GarageType     0.0\n",
       "GarageCars     0.0\n",
       "GarageArea     0.0\n",
       "SalePrice      0.0\n",
       "dtype: float64"
      ]
     },
     "execution_count": 243,
     "metadata": {},
     "output_type": "execute_result"
    }
   ],
   "source": [
    "((housing.isnull().sum()/housing.shape[0])*100).sort_values(ascending=False)"
   ]
  },
  {
   "cell_type": "markdown",
   "id": "6702c355",
   "metadata": {},
   "source": [
    "#### Outlier Treatment"
   ]
  },
  {
   "cell_type": "code",
   "execution_count": 244,
   "id": "49792d25",
   "metadata": {},
   "outputs": [
    {
     "data": {
      "text/html": [
       "<div>\n",
       "<style scoped>\n",
       "    .dataframe tbody tr th:only-of-type {\n",
       "        vertical-align: middle;\n",
       "    }\n",
       "\n",
       "    .dataframe tbody tr th {\n",
       "        vertical-align: top;\n",
       "    }\n",
       "\n",
       "    .dataframe thead th {\n",
       "        text-align: right;\n",
       "    }\n",
       "</style>\n",
       "<table border=\"1\" class=\"dataframe\">\n",
       "  <thead>\n",
       "    <tr style=\"text-align: right;\">\n",
       "      <th></th>\n",
       "      <th>OverallQual</th>\n",
       "      <th>YearBuilt</th>\n",
       "      <th>TotalBsmtSF</th>\n",
       "      <th>Electrical</th>\n",
       "      <th>GrLivArea</th>\n",
       "      <th>FullBath</th>\n",
       "      <th>GarageType</th>\n",
       "      <th>GarageCars</th>\n",
       "      <th>GarageArea</th>\n",
       "      <th>SalePrice</th>\n",
       "    </tr>\n",
       "  </thead>\n",
       "  <tbody>\n",
       "    <tr>\n",
       "      <th>1260</th>\n",
       "      <td>10</td>\n",
       "      <td>2008</td>\n",
       "      <td>6110</td>\n",
       "      <td>SBrkr</td>\n",
       "      <td>5642</td>\n",
       "      <td>2</td>\n",
       "      <td>Attchd</td>\n",
       "      <td>2</td>\n",
       "      <td>1418</td>\n",
       "      <td>160000</td>\n",
       "    </tr>\n",
       "  </tbody>\n",
       "</table>\n",
       "</div>"
      ],
      "text/plain": [
       "      OverallQual  YearBuilt  TotalBsmtSF Electrical  GrLivArea  FullBath  \\\n",
       "1260           10       2008         6110      SBrkr       5642         2   \n",
       "\n",
       "     GarageType  GarageCars  GarageArea  SalePrice  \n",
       "1260     Attchd           2        1418     160000  "
      ]
     },
     "execution_count": 244,
     "metadata": {},
     "output_type": "execute_result"
    }
   ],
   "source": [
    "# GrLivArea\n",
    "\n",
    "housing[housing['GrLivArea']>5000]"
   ]
  },
  {
   "cell_type": "code",
   "execution_count": 245,
   "id": "b5b37f8d",
   "metadata": {},
   "outputs": [
    {
     "data": {
      "text/html": [
       "<div>\n",
       "<style scoped>\n",
       "    .dataframe tbody tr th:only-of-type {\n",
       "        vertical-align: middle;\n",
       "    }\n",
       "\n",
       "    .dataframe tbody tr th {\n",
       "        vertical-align: top;\n",
       "    }\n",
       "\n",
       "    .dataframe thead th {\n",
       "        text-align: right;\n",
       "    }\n",
       "</style>\n",
       "<table border=\"1\" class=\"dataframe\">\n",
       "  <thead>\n",
       "    <tr style=\"text-align: right;\">\n",
       "      <th></th>\n",
       "      <th>OverallQual</th>\n",
       "      <th>YearBuilt</th>\n",
       "      <th>TotalBsmtSF</th>\n",
       "      <th>Electrical</th>\n",
       "      <th>GrLivArea</th>\n",
       "      <th>FullBath</th>\n",
       "      <th>GarageType</th>\n",
       "      <th>GarageCars</th>\n",
       "      <th>GarageArea</th>\n",
       "      <th>SalePrice</th>\n",
       "    </tr>\n",
       "  </thead>\n",
       "  <tbody>\n",
       "    <tr>\n",
       "      <th>1260</th>\n",
       "      <td>10</td>\n",
       "      <td>2008</td>\n",
       "      <td>6110</td>\n",
       "      <td>SBrkr</td>\n",
       "      <td>5642</td>\n",
       "      <td>2</td>\n",
       "      <td>Attchd</td>\n",
       "      <td>2</td>\n",
       "      <td>1418</td>\n",
       "      <td>160000</td>\n",
       "    </tr>\n",
       "  </tbody>\n",
       "</table>\n",
       "</div>"
      ],
      "text/plain": [
       "      OverallQual  YearBuilt  TotalBsmtSF Electrical  GrLivArea  FullBath  \\\n",
       "1260           10       2008         6110      SBrkr       5642         2   \n",
       "\n",
       "     GarageType  GarageCars  GarageArea  SalePrice  \n",
       "1260     Attchd           2        1418     160000  "
      ]
     },
     "execution_count": 245,
     "metadata": {},
     "output_type": "execute_result"
    }
   ],
   "source": [
    "# TotalBsmtSF\n",
    "\n",
    "housing[housing['TotalBsmtSF']>6000]"
   ]
  },
  {
   "cell_type": "code",
   "execution_count": 246,
   "id": "37579553",
   "metadata": {},
   "outputs": [
    {
     "data": {
      "text/html": [
       "<div>\n",
       "<style scoped>\n",
       "    .dataframe tbody tr th:only-of-type {\n",
       "        vertical-align: middle;\n",
       "    }\n",
       "\n",
       "    .dataframe tbody tr th {\n",
       "        vertical-align: top;\n",
       "    }\n",
       "\n",
       "    .dataframe thead th {\n",
       "        text-align: right;\n",
       "    }\n",
       "</style>\n",
       "<table border=\"1\" class=\"dataframe\">\n",
       "  <thead>\n",
       "    <tr style=\"text-align: right;\">\n",
       "      <th></th>\n",
       "      <th>OverallQual</th>\n",
       "      <th>YearBuilt</th>\n",
       "      <th>TotalBsmtSF</th>\n",
       "      <th>Electrical</th>\n",
       "      <th>GrLivArea</th>\n",
       "      <th>FullBath</th>\n",
       "      <th>GarageType</th>\n",
       "      <th>GarageCars</th>\n",
       "      <th>GarageArea</th>\n",
       "      <th>SalePrice</th>\n",
       "    </tr>\n",
       "  </thead>\n",
       "  <tbody>\n",
       "    <tr>\n",
       "      <th>665</th>\n",
       "      <td>10</td>\n",
       "      <td>1994</td>\n",
       "      <td>2444</td>\n",
       "      <td>SBrkr</td>\n",
       "      <td>4316</td>\n",
       "      <td>3</td>\n",
       "      <td>Attchd</td>\n",
       "      <td>3</td>\n",
       "      <td>832</td>\n",
       "      <td>755000</td>\n",
       "    </tr>\n",
       "    <tr>\n",
       "      <th>1147</th>\n",
       "      <td>10</td>\n",
       "      <td>1996</td>\n",
       "      <td>2396</td>\n",
       "      <td>SBrkr</td>\n",
       "      <td>4476</td>\n",
       "      <td>3</td>\n",
       "      <td>Attchd</td>\n",
       "      <td>3</td>\n",
       "      <td>813</td>\n",
       "      <td>745000</td>\n",
       "    </tr>\n",
       "  </tbody>\n",
       "</table>\n",
       "</div>"
      ],
      "text/plain": [
       "      OverallQual  YearBuilt  TotalBsmtSF Electrical  GrLivArea  FullBath  \\\n",
       "665            10       1994         2444      SBrkr       4316         3   \n",
       "1147           10       1996         2396      SBrkr       4476         3   \n",
       "\n",
       "     GarageType  GarageCars  GarageArea  SalePrice  \n",
       "665      Attchd           3         832     755000  \n",
       "1147     Attchd           3         813     745000  "
      ]
     },
     "execution_count": 246,
     "metadata": {},
     "output_type": "execute_result"
    }
   ],
   "source": [
    "# Sale Price\n",
    "\n",
    "housing[housing['SalePrice']>700000]"
   ]
  },
  {
   "cell_type": "code",
   "execution_count": 247,
   "id": "1c46bcd8",
   "metadata": {},
   "outputs": [],
   "source": [
    "# We can drop these three points\n",
    "\n",
    "housing.drop(index=[1260,665,1147], inplace=True)"
   ]
  },
  {
   "cell_type": "code",
   "execution_count": 248,
   "id": "dce152fd",
   "metadata": {},
   "outputs": [
    {
     "data": {
      "text/html": [
       "<div>\n",
       "<style scoped>\n",
       "    .dataframe tbody tr th:only-of-type {\n",
       "        vertical-align: middle;\n",
       "    }\n",
       "\n",
       "    .dataframe tbody tr th {\n",
       "        vertical-align: top;\n",
       "    }\n",
       "\n",
       "    .dataframe thead th {\n",
       "        text-align: right;\n",
       "    }\n",
       "</style>\n",
       "<table border=\"1\" class=\"dataframe\">\n",
       "  <thead>\n",
       "    <tr style=\"text-align: right;\">\n",
       "      <th></th>\n",
       "      <th>OverallQual</th>\n",
       "      <th>YearBuilt</th>\n",
       "      <th>TotalBsmtSF</th>\n",
       "      <th>Electrical</th>\n",
       "      <th>GrLivArea</th>\n",
       "      <th>FullBath</th>\n",
       "      <th>GarageType</th>\n",
       "      <th>GarageCars</th>\n",
       "      <th>GarageArea</th>\n",
       "      <th>SalePrice</th>\n",
       "    </tr>\n",
       "  </thead>\n",
       "  <tbody>\n",
       "    <tr>\n",
       "      <th>0</th>\n",
       "      <td>7</td>\n",
       "      <td>2003</td>\n",
       "      <td>856</td>\n",
       "      <td>SBrkr</td>\n",
       "      <td>1710</td>\n",
       "      <td>2</td>\n",
       "      <td>Attchd</td>\n",
       "      <td>2</td>\n",
       "      <td>548</td>\n",
       "      <td>208500</td>\n",
       "    </tr>\n",
       "    <tr>\n",
       "      <th>1</th>\n",
       "      <td>6</td>\n",
       "      <td>1976</td>\n",
       "      <td>1262</td>\n",
       "      <td>SBrkr</td>\n",
       "      <td>1262</td>\n",
       "      <td>2</td>\n",
       "      <td>Attchd</td>\n",
       "      <td>2</td>\n",
       "      <td>460</td>\n",
       "      <td>181500</td>\n",
       "    </tr>\n",
       "    <tr>\n",
       "      <th>2</th>\n",
       "      <td>7</td>\n",
       "      <td>2001</td>\n",
       "      <td>920</td>\n",
       "      <td>SBrkr</td>\n",
       "      <td>1786</td>\n",
       "      <td>2</td>\n",
       "      <td>Attchd</td>\n",
       "      <td>2</td>\n",
       "      <td>608</td>\n",
       "      <td>223500</td>\n",
       "    </tr>\n",
       "    <tr>\n",
       "      <th>3</th>\n",
       "      <td>7</td>\n",
       "      <td>1915</td>\n",
       "      <td>756</td>\n",
       "      <td>SBrkr</td>\n",
       "      <td>1717</td>\n",
       "      <td>1</td>\n",
       "      <td>Detchd</td>\n",
       "      <td>3</td>\n",
       "      <td>642</td>\n",
       "      <td>140000</td>\n",
       "    </tr>\n",
       "    <tr>\n",
       "      <th>4</th>\n",
       "      <td>8</td>\n",
       "      <td>2000</td>\n",
       "      <td>1145</td>\n",
       "      <td>SBrkr</td>\n",
       "      <td>2198</td>\n",
       "      <td>2</td>\n",
       "      <td>Attchd</td>\n",
       "      <td>3</td>\n",
       "      <td>836</td>\n",
       "      <td>250000</td>\n",
       "    </tr>\n",
       "    <tr>\n",
       "      <th>...</th>\n",
       "      <td>...</td>\n",
       "      <td>...</td>\n",
       "      <td>...</td>\n",
       "      <td>...</td>\n",
       "      <td>...</td>\n",
       "      <td>...</td>\n",
       "      <td>...</td>\n",
       "      <td>...</td>\n",
       "      <td>...</td>\n",
       "      <td>...</td>\n",
       "    </tr>\n",
       "    <tr>\n",
       "      <th>1413</th>\n",
       "      <td>6</td>\n",
       "      <td>1999</td>\n",
       "      <td>953</td>\n",
       "      <td>SBrkr</td>\n",
       "      <td>1647</td>\n",
       "      <td>2</td>\n",
       "      <td>Attchd</td>\n",
       "      <td>2</td>\n",
       "      <td>460</td>\n",
       "      <td>175000</td>\n",
       "    </tr>\n",
       "    <tr>\n",
       "      <th>1414</th>\n",
       "      <td>6</td>\n",
       "      <td>1978</td>\n",
       "      <td>1542</td>\n",
       "      <td>SBrkr</td>\n",
       "      <td>2073</td>\n",
       "      <td>2</td>\n",
       "      <td>Attchd</td>\n",
       "      <td>2</td>\n",
       "      <td>500</td>\n",
       "      <td>210000</td>\n",
       "    </tr>\n",
       "    <tr>\n",
       "      <th>1415</th>\n",
       "      <td>7</td>\n",
       "      <td>1941</td>\n",
       "      <td>1152</td>\n",
       "      <td>SBrkr</td>\n",
       "      <td>2340</td>\n",
       "      <td>2</td>\n",
       "      <td>Attchd</td>\n",
       "      <td>1</td>\n",
       "      <td>252</td>\n",
       "      <td>266500</td>\n",
       "    </tr>\n",
       "    <tr>\n",
       "      <th>1416</th>\n",
       "      <td>5</td>\n",
       "      <td>1950</td>\n",
       "      <td>1078</td>\n",
       "      <td>FuseA</td>\n",
       "      <td>1078</td>\n",
       "      <td>1</td>\n",
       "      <td>Detchd</td>\n",
       "      <td>1</td>\n",
       "      <td>240</td>\n",
       "      <td>142125</td>\n",
       "    </tr>\n",
       "    <tr>\n",
       "      <th>1417</th>\n",
       "      <td>5</td>\n",
       "      <td>1965</td>\n",
       "      <td>1256</td>\n",
       "      <td>SBrkr</td>\n",
       "      <td>1256</td>\n",
       "      <td>1</td>\n",
       "      <td>Attchd</td>\n",
       "      <td>1</td>\n",
       "      <td>276</td>\n",
       "      <td>147500</td>\n",
       "    </tr>\n",
       "  </tbody>\n",
       "</table>\n",
       "<p>1415 rows × 10 columns</p>\n",
       "</div>"
      ],
      "text/plain": [
       "      OverallQual  YearBuilt  TotalBsmtSF Electrical  GrLivArea  FullBath  \\\n",
       "0               7       2003          856      SBrkr       1710         2   \n",
       "1               6       1976         1262      SBrkr       1262         2   \n",
       "2               7       2001          920      SBrkr       1786         2   \n",
       "3               7       1915          756      SBrkr       1717         1   \n",
       "4               8       2000         1145      SBrkr       2198         2   \n",
       "...           ...        ...          ...        ...        ...       ...   \n",
       "1413            6       1999          953      SBrkr       1647         2   \n",
       "1414            6       1978         1542      SBrkr       2073         2   \n",
       "1415            7       1941         1152      SBrkr       2340         2   \n",
       "1416            5       1950         1078      FuseA       1078         1   \n",
       "1417            5       1965         1256      SBrkr       1256         1   \n",
       "\n",
       "     GarageType  GarageCars  GarageArea  SalePrice  \n",
       "0        Attchd           2         548     208500  \n",
       "1        Attchd           2         460     181500  \n",
       "2        Attchd           2         608     223500  \n",
       "3        Detchd           3         642     140000  \n",
       "4        Attchd           3         836     250000  \n",
       "...         ...         ...         ...        ...  \n",
       "1413     Attchd           2         460     175000  \n",
       "1414     Attchd           2         500     210000  \n",
       "1415     Attchd           1         252     266500  \n",
       "1416     Detchd           1         240     142125  \n",
       "1417     Attchd           1         276     147500  \n",
       "\n",
       "[1415 rows x 10 columns]"
      ]
     },
     "execution_count": 248,
     "metadata": {},
     "output_type": "execute_result"
    }
   ],
   "source": [
    "housing"
   ]
  },
  {
   "cell_type": "code",
   "execution_count": 249,
   "id": "241ec833",
   "metadata": {},
   "outputs": [
    {
     "data": {
      "text/plain": [
       "<AxesSubplot:>"
      ]
     },
     "execution_count": 249,
     "metadata": {},
     "output_type": "execute_result"
    },
    {
     "data": {
      "image/png": "[encoded data removed]",
      "text/plain": [
       "<Figure size 432x288 with 1 Axes>"
      ]
     },
     "metadata": {
      "needs_background": "light"
     },
     "output_type": "display_data"
    }
   ],
   "source": [
    "sns.boxplot(data = housing['SalePrice'], orient='h')"
   ]
  },
  {
   "cell_type": "raw",
   "id": "d9b12a0a",
   "metadata": {},
   "source": [
    "q1,q3 = np.quantile(housing['SalePrice'],[0.25,0.75])\n",
    "iqr = q3 - q1\n",
    "ul = q3 + 1.5*(iqr)\n",
    "housing['SalePrice'] = np.where(housing['SalePrice']>ul, ul, housing['SalePrice'])"
   ]
  },
  {
   "cell_type": "raw",
   "id": "a54a35df",
   "metadata": {},
   "source": [
    "sns.boxplot(data = housing['SalePrice'], orient='h')"
   ]
  },
  {
   "cell_type": "code",
   "execution_count": 250,
   "id": "970b9b73",
   "metadata": {},
   "outputs": [
    {
     "data": {
      "image/png": "[encoded data removed]",
      "text/plain": [
       "<Figure size 720x360 with 2 Axes>"
      ]
     },
     "metadata": {
      "needs_background": "light"
     },
     "output_type": "display_data"
    }
   ],
   "source": [
    "plt.figure(figsize = (10,5))\n",
    "\n",
    "sns.heatmap(housing.corr(), annot=True, vmax=1, vmin=-1, cmap='RdBu')\n",
    "plt.show()"
   ]
  },
  {
   "cell_type": "markdown",
   "id": "27069252",
   "metadata": {},
   "source": [
    "##### Treat all the object datatypes with appropriate encoding technique\n",
    "\n",
    "* One Hot Encoding\n",
    "* Dummy Encoding\n",
    "* Label Encoding\n",
    "* Target Encoding\n",
    "* Frequency Encoding"
   ]
  },
  {
   "cell_type": "code",
   "execution_count": 251,
   "id": "02ee8a5c",
   "metadata": {},
   "outputs": [
    {
     "data": {
      "text/html": [
       "<div>\n",
       "<style scoped>\n",
       "    .dataframe tbody tr th:only-of-type {\n",
       "        vertical-align: middle;\n",
       "    }\n",
       "\n",
       "    .dataframe tbody tr th {\n",
       "        vertical-align: top;\n",
       "    }\n",
       "\n",
       "    .dataframe thead th {\n",
       "        text-align: right;\n",
       "    }\n",
       "</style>\n",
       "<table border=\"1\" class=\"dataframe\">\n",
       "  <thead>\n",
       "    <tr style=\"text-align: right;\">\n",
       "      <th></th>\n",
       "      <th>Electrical</th>\n",
       "      <th>GarageType</th>\n",
       "    </tr>\n",
       "  </thead>\n",
       "  <tbody>\n",
       "    <tr>\n",
       "      <th>0</th>\n",
       "      <td>SBrkr</td>\n",
       "      <td>Attchd</td>\n",
       "    </tr>\n",
       "    <tr>\n",
       "      <th>1</th>\n",
       "      <td>SBrkr</td>\n",
       "      <td>Attchd</td>\n",
       "    </tr>\n",
       "    <tr>\n",
       "      <th>2</th>\n",
       "      <td>SBrkr</td>\n",
       "      <td>Attchd</td>\n",
       "    </tr>\n",
       "    <tr>\n",
       "      <th>3</th>\n",
       "      <td>SBrkr</td>\n",
       "      <td>Detchd</td>\n",
       "    </tr>\n",
       "    <tr>\n",
       "      <th>4</th>\n",
       "      <td>SBrkr</td>\n",
       "      <td>Attchd</td>\n",
       "    </tr>\n",
       "    <tr>\n",
       "      <th>...</th>\n",
       "      <td>...</td>\n",
       "      <td>...</td>\n",
       "    </tr>\n",
       "    <tr>\n",
       "      <th>1413</th>\n",
       "      <td>SBrkr</td>\n",
       "      <td>Attchd</td>\n",
       "    </tr>\n",
       "    <tr>\n",
       "      <th>1414</th>\n",
       "      <td>SBrkr</td>\n",
       "      <td>Attchd</td>\n",
       "    </tr>\n",
       "    <tr>\n",
       "      <th>1415</th>\n",
       "      <td>SBrkr</td>\n",
       "      <td>Attchd</td>\n",
       "    </tr>\n",
       "    <tr>\n",
       "      <th>1416</th>\n",
       "      <td>FuseA</td>\n",
       "      <td>Detchd</td>\n",
       "    </tr>\n",
       "    <tr>\n",
       "      <th>1417</th>\n",
       "      <td>SBrkr</td>\n",
       "      <td>Attchd</td>\n",
       "    </tr>\n",
       "  </tbody>\n",
       "</table>\n",
       "<p>1415 rows × 2 columns</p>\n",
       "</div>"
      ],
      "text/plain": [
       "     Electrical GarageType\n",
       "0         SBrkr     Attchd\n",
       "1         SBrkr     Attchd\n",
       "2         SBrkr     Attchd\n",
       "3         SBrkr     Detchd\n",
       "4         SBrkr     Attchd\n",
       "...         ...        ...\n",
       "1413      SBrkr     Attchd\n",
       "1414      SBrkr     Attchd\n",
       "1415      SBrkr     Attchd\n",
       "1416      FuseA     Detchd\n",
       "1417      SBrkr     Attchd\n",
       "\n",
       "[1415 rows x 2 columns]"
      ]
     },
     "execution_count": 251,
     "metadata": {},
     "output_type": "execute_result"
    }
   ],
   "source": [
    "housing[housing.select_dtypes('object').columns]"
   ]
  },
  {
   "cell_type": "code",
   "execution_count": 252,
   "id": "ba9d8207",
   "metadata": {},
   "outputs": [
    {
     "data": {
      "text/plain": [
       "Attchd      797\n",
       "Detchd      416\n",
       "BuiltIn      87\n",
       "NoGarage     81\n",
       "Basment      19\n",
       "CarPort       9\n",
       "2Types        6\n",
       "Name: GarageType, dtype: int64"
      ]
     },
     "execution_count": 252,
     "metadata": {},
     "output_type": "execute_result"
    }
   ],
   "source": [
    "housing['GarageType'].value_counts()"
   ]
  },
  {
   "cell_type": "code",
   "execution_count": 253,
   "id": "fb64196b",
   "metadata": {},
   "outputs": [
    {
     "data": {
      "text/plain": [
       "SBrkr    1298\n",
       "FuseA      89\n",
       "FuseF      24\n",
       "FuseP       3\n",
       "Mix         1\n",
       "Name: Electrical, dtype: int64"
      ]
     },
     "execution_count": 253,
     "metadata": {},
     "output_type": "execute_result"
    }
   ],
   "source": [
    "housing['Electrical'].value_counts()"
   ]
  },
  {
   "cell_type": "markdown",
   "id": "74e87816",
   "metadata": {},
   "source": [
    "## LI DAY 02\n"
   ]
  },
  {
   "cell_type": "markdown",
   "id": "13c84633",
   "metadata": {},
   "source": [
    "### Train Test Split"
   ]
  },
  {
   "cell_type": "code",
   "execution_count": 255,
   "id": "cc4ee76b",
   "metadata": {},
   "outputs": [],
   "source": [
    "from sklearn.model_selection import train_test_split"
   ]
  },
  {
   "cell_type": "code",
   "execution_count": 256,
   "id": "440daf84",
   "metadata": {},
   "outputs": [],
   "source": [
    "x = housing.drop(columns=['SalePrice'])\n",
    "y = housing['SalePrice']"
   ]
  },
  {
   "cell_type": "code",
   "execution_count": 257,
   "id": "83f23c3e",
   "metadata": {},
   "outputs": [
    {
     "data": {
      "text/plain": [
       "(1415, 10)"
      ]
     },
     "execution_count": 257,
     "metadata": {},
     "output_type": "execute_result"
    }
   ],
   "source": [
    "housing.shape"
   ]
  },
  {
   "cell_type": "code",
   "execution_count": 258,
   "id": "970df4ad",
   "metadata": {},
   "outputs": [],
   "source": [
    "train_x, test_x, train_y, test_y = train_test_split(x,y,train_size=0.75)"
   ]
  },
  {
   "cell_type": "code",
   "execution_count": 259,
   "id": "2f579308",
   "metadata": {},
   "outputs": [
    {
     "name": "stdout",
     "output_type": "stream",
     "text": [
      "(1061, 9) (354, 9) (1061,) (354,)\n"
     ]
    }
   ],
   "source": [
    "print(train_x.shape, test_x.shape, train_y.shape, test_y.shape)"
   ]
  },
  {
   "cell_type": "markdown",
   "id": "9fe6ac50",
   "metadata": {},
   "source": [
    "### Scaling"
   ]
  },
  {
   "cell_type": "code",
   "execution_count": 260,
   "id": "9f548321",
   "metadata": {},
   "outputs": [],
   "source": [
    "from sklearn.preprocessing import StandardScaler"
   ]
  },
  {
   "cell_type": "code",
   "execution_count": 261,
   "id": "591f90a4",
   "metadata": {},
   "outputs": [],
   "source": [
    "sc = StandardScaler()"
   ]
  },
  {
   "cell_type": "code",
   "execution_count": 264,
   "id": "3feb0509",
   "metadata": {},
   "outputs": [],
   "source": [
    "for i in num_cols:\n",
    "    if i != 'SalePrice':\n",
    "        sc = StandardScaler()\n",
    "        train_x[i] = sc.fit_transform(pd.DataFrame(train_x[i]))\n",
    "        test_x[i] = sc.fit_transform(pd.DataFrame(test_x[i]))"
   ]
  },
  {
   "cell_type": "code",
   "execution_count": 265,
   "id": "7a164598",
   "metadata": {},
   "outputs": [
    {
     "data": {
      "text/html": [
       "<div>\n",
       "<style scoped>\n",
       "    .dataframe tbody tr th:only-of-type {\n",
       "        vertical-align: middle;\n",
       "    }\n",
       "\n",
       "    .dataframe tbody tr th {\n",
       "        vertical-align: top;\n",
       "    }\n",
       "\n",
       "    .dataframe thead th {\n",
       "        text-align: right;\n",
       "    }\n",
       "</style>\n",
       "<table border=\"1\" class=\"dataframe\">\n",
       "  <thead>\n",
       "    <tr style=\"text-align: right;\">\n",
       "      <th></th>\n",
       "      <th>OverallQual</th>\n",
       "      <th>YearBuilt</th>\n",
       "      <th>TotalBsmtSF</th>\n",
       "      <th>Electrical</th>\n",
       "      <th>GrLivArea</th>\n",
       "      <th>FullBath</th>\n",
       "      <th>GarageType</th>\n",
       "      <th>GarageCars</th>\n",
       "      <th>GarageArea</th>\n",
       "    </tr>\n",
       "  </thead>\n",
       "  <tbody>\n",
       "    <tr>\n",
       "      <th>919</th>\n",
       "      <td>5</td>\n",
       "      <td>-0.736965</td>\n",
       "      <td>-0.476873</td>\n",
       "      <td>SBrkr</td>\n",
       "      <td>-1.283678</td>\n",
       "      <td>1</td>\n",
       "      <td>Detchd</td>\n",
       "      <td>2</td>\n",
       "      <td>1.183561</td>\n",
       "    </tr>\n",
       "    <tr>\n",
       "      <th>1261</th>\n",
       "      <td>5</td>\n",
       "      <td>-0.437430</td>\n",
       "      <td>0.450964</td>\n",
       "      <td>SBrkr</td>\n",
       "      <td>-0.521979</td>\n",
       "      <td>1</td>\n",
       "      <td>Attchd</td>\n",
       "      <td>1</td>\n",
       "      <td>-0.811232</td>\n",
       "    </tr>\n",
       "    <tr>\n",
       "      <th>130</th>\n",
       "      <td>7</td>\n",
       "      <td>1.093528</td>\n",
       "      <td>1.636263</td>\n",
       "      <td>SBrkr</td>\n",
       "      <td>0.451082</td>\n",
       "      <td>2</td>\n",
       "      <td>Attchd</td>\n",
       "      <td>2</td>\n",
       "      <td>0.895157</td>\n",
       "    </tr>\n",
       "    <tr>\n",
       "      <th>125</th>\n",
       "      <td>5</td>\n",
       "      <td>-0.171176</td>\n",
       "      <td>0.373239</td>\n",
       "      <td>SBrkr</td>\n",
       "      <td>-0.585786</td>\n",
       "      <td>2</td>\n",
       "      <td>Detchd</td>\n",
       "      <td>1</td>\n",
       "      <td>-0.748745</td>\n",
       "    </tr>\n",
       "    <tr>\n",
       "      <th>691</th>\n",
       "      <td>5</td>\n",
       "      <td>0.028514</td>\n",
       "      <td>0.280941</td>\n",
       "      <td>SBrkr</td>\n",
       "      <td>-0.657569</td>\n",
       "      <td>1</td>\n",
       "      <td>Attchd</td>\n",
       "      <td>2</td>\n",
       "      <td>-0.167130</td>\n",
       "    </tr>\n",
       "    <tr>\n",
       "      <th>...</th>\n",
       "      <td>...</td>\n",
       "      <td>...</td>\n",
       "      <td>...</td>\n",
       "      <td>...</td>\n",
       "      <td>...</td>\n",
       "      <td>...</td>\n",
       "      <td>...</td>\n",
       "      <td>...</td>\n",
       "      <td>...</td>\n",
       "    </tr>\n",
       "    <tr>\n",
       "      <th>1291</th>\n",
       "      <td>7</td>\n",
       "      <td>0.860556</td>\n",
       "      <td>-0.304422</td>\n",
       "      <td>SBrkr</td>\n",
       "      <td>0.247697</td>\n",
       "      <td>2</td>\n",
       "      <td>Attchd</td>\n",
       "      <td>2</td>\n",
       "      <td>-0.056575</td>\n",
       "    </tr>\n",
       "    <tr>\n",
       "      <th>1209</th>\n",
       "      <td>6</td>\n",
       "      <td>0.394612</td>\n",
       "      <td>-1.154534</td>\n",
       "      <td>SBrkr</td>\n",
       "      <td>0.718275</td>\n",
       "      <td>3</td>\n",
       "      <td>BuiltIn</td>\n",
       "      <td>2</td>\n",
       "      <td>0.015526</td>\n",
       "    </tr>\n",
       "    <tr>\n",
       "      <th>285</th>\n",
       "      <td>7</td>\n",
       "      <td>-3.066683</td>\n",
       "      <td>0.995035</td>\n",
       "      <td>SBrkr</td>\n",
       "      <td>3.958489</td>\n",
       "      <td>3</td>\n",
       "      <td>Attchd</td>\n",
       "      <td>3</td>\n",
       "      <td>1.904571</td>\n",
       "    </tr>\n",
       "    <tr>\n",
       "      <th>676</th>\n",
       "      <td>8</td>\n",
       "      <td>1.126809</td>\n",
       "      <td>0.421817</td>\n",
       "      <td>SBrkr</td>\n",
       "      <td>2.130012</td>\n",
       "      <td>2</td>\n",
       "      <td>BuiltIn</td>\n",
       "      <td>3</td>\n",
       "      <td>0.923998</td>\n",
       "    </tr>\n",
       "    <tr>\n",
       "      <th>943</th>\n",
       "      <td>7</td>\n",
       "      <td>0.927119</td>\n",
       "      <td>-0.940792</td>\n",
       "      <td>SBrkr</td>\n",
       "      <td>-0.250798</td>\n",
       "      <td>2</td>\n",
       "      <td>Detchd</td>\n",
       "      <td>2</td>\n",
       "      <td>0.078013</td>\n",
       "    </tr>\n",
       "  </tbody>\n",
       "</table>\n",
       "<p>1061 rows × 9 columns</p>\n",
       "</div>"
      ],
      "text/plain": [
       "      OverallQual  YearBuilt  TotalBsmtSF Electrical  GrLivArea  FullBath  \\\n",
       "919             5  -0.736965    -0.476873      SBrkr  -1.283678         1   \n",
       "1261            5  -0.437430     0.450964      SBrkr  -0.521979         1   \n",
       "130             7   1.093528     1.636263      SBrkr   0.451082         2   \n",
       "125             5  -0.171176     0.373239      SBrkr  -0.585786         2   \n",
       "691             5   0.028514     0.280941      SBrkr  -0.657569         1   \n",
       "...           ...        ...          ...        ...        ...       ...   \n",
       "1291            7   0.860556    -0.304422      SBrkr   0.247697         2   \n",
       "1209            6   0.394612    -1.154534      SBrkr   0.718275         3   \n",
       "285             7  -3.066683     0.995035      SBrkr   3.958489         3   \n",
       "676             8   1.126809     0.421817      SBrkr   2.130012         2   \n",
       "943             7   0.927119    -0.940792      SBrkr  -0.250798         2   \n",
       "\n",
       "     GarageType  GarageCars  GarageArea  \n",
       "919      Detchd           2    1.183561  \n",
       "1261     Attchd           1   -0.811232  \n",
       "130      Attchd           2    0.895157  \n",
       "125      Detchd           1   -0.748745  \n",
       "691      Attchd           2   -0.167130  \n",
       "...         ...         ...         ...  \n",
       "1291     Attchd           2   -0.056575  \n",
       "1209    BuiltIn           2    0.015526  \n",
       "285      Attchd           3    1.904571  \n",
       "676     BuiltIn           3    0.923998  \n",
       "943      Detchd           2    0.078013  \n",
       "\n",
       "[1061 rows x 9 columns]"
      ]
     },
     "execution_count": 265,
     "metadata": {},
     "output_type": "execute_result"
    }
   ],
   "source": [
    "train_x"
   ]
  },
  {
   "cell_type": "code",
   "execution_count": 266,
   "id": "2bb5b1c3",
   "metadata": {},
   "outputs": [
    {
     "data": {
      "text/html": [
       "<div>\n",
       "<style scoped>\n",
       "    .dataframe tbody tr th:only-of-type {\n",
       "        vertical-align: middle;\n",
       "    }\n",
       "\n",
       "    .dataframe tbody tr th {\n",
       "        vertical-align: top;\n",
       "    }\n",
       "\n",
       "    .dataframe thead th {\n",
       "        text-align: right;\n",
       "    }\n",
       "</style>\n",
       "<table border=\"1\" class=\"dataframe\">\n",
       "  <thead>\n",
       "    <tr style=\"text-align: right;\">\n",
       "      <th></th>\n",
       "      <th>OverallQual</th>\n",
       "      <th>YearBuilt</th>\n",
       "      <th>TotalBsmtSF</th>\n",
       "      <th>Electrical</th>\n",
       "      <th>GrLivArea</th>\n",
       "      <th>FullBath</th>\n",
       "      <th>GarageType</th>\n",
       "      <th>GarageCars</th>\n",
       "      <th>GarageArea</th>\n",
       "    </tr>\n",
       "  </thead>\n",
       "  <tbody>\n",
       "    <tr>\n",
       "      <th>439</th>\n",
       "      <td>8</td>\n",
       "      <td>1.307953</td>\n",
       "      <td>-0.507129</td>\n",
       "      <td>SBrkr</td>\n",
       "      <td>0.792922</td>\n",
       "      <td>2</td>\n",
       "      <td>BuiltIn</td>\n",
       "      <td>2</td>\n",
       "      <td>0.376933</td>\n",
       "    </tr>\n",
       "    <tr>\n",
       "      <th>1067</th>\n",
       "      <td>5</td>\n",
       "      <td>0.041973</td>\n",
       "      <td>-0.224739</td>\n",
       "      <td>SBrkr</td>\n",
       "      <td>-1.122861</td>\n",
       "      <td>1</td>\n",
       "      <td>Detchd</td>\n",
       "      <td>1</td>\n",
       "      <td>-0.795018</td>\n",
       "    </tr>\n",
       "    <tr>\n",
       "      <th>941</th>\n",
       "      <td>7</td>\n",
       "      <td>1.241322</td>\n",
       "      <td>0.919181</td>\n",
       "      <td>SBrkr</td>\n",
       "      <td>-0.193172</td>\n",
       "      <td>2</td>\n",
       "      <td>Attchd</td>\n",
       "      <td>2</td>\n",
       "      <td>0.066711</td>\n",
       "    </tr>\n",
       "    <tr>\n",
       "      <th>1158</th>\n",
       "      <td>6</td>\n",
       "      <td>0.974800</td>\n",
       "      <td>0.430981</td>\n",
       "      <td>SBrkr</td>\n",
       "      <td>-0.589943</td>\n",
       "      <td>2</td>\n",
       "      <td>Attchd</td>\n",
       "      <td>2</td>\n",
       "      <td>-0.269363</td>\n",
       "    </tr>\n",
       "    <tr>\n",
       "      <th>978</th>\n",
       "      <td>5</td>\n",
       "      <td>-0.157918</td>\n",
       "      <td>-2.498219</td>\n",
       "      <td>SBrkr</td>\n",
       "      <td>0.265838</td>\n",
       "      <td>2</td>\n",
       "      <td>NoGarage</td>\n",
       "      <td>0</td>\n",
       "      <td>-2.001439</td>\n",
       "    </tr>\n",
       "    <tr>\n",
       "      <th>...</th>\n",
       "      <td>...</td>\n",
       "      <td>...</td>\n",
       "      <td>...</td>\n",
       "      <td>...</td>\n",
       "      <td>...</td>\n",
       "      <td>...</td>\n",
       "      <td>...</td>\n",
       "      <td>...</td>\n",
       "      <td>...</td>\n",
       "    </tr>\n",
       "    <tr>\n",
       "      <th>1305</th>\n",
       "      <td>7</td>\n",
       "      <td>1.208007</td>\n",
       "      <td>-0.756015</td>\n",
       "      <td>SBrkr</td>\n",
       "      <td>-0.138713</td>\n",
       "      <td>2</td>\n",
       "      <td>Attchd</td>\n",
       "      <td>2</td>\n",
       "      <td>-0.105635</td>\n",
       "    </tr>\n",
       "    <tr>\n",
       "      <th>1102</th>\n",
       "      <td>6</td>\n",
       "      <td>-0.657647</td>\n",
       "      <td>-0.028501</td>\n",
       "      <td>FuseA</td>\n",
       "      <td>-0.535484</td>\n",
       "      <td>1</td>\n",
       "      <td>Attchd</td>\n",
       "      <td>1</td>\n",
       "      <td>-0.760549</td>\n",
       "    </tr>\n",
       "    <tr>\n",
       "      <th>111</th>\n",
       "      <td>6</td>\n",
       "      <td>-0.391125</td>\n",
       "      <td>0.086369</td>\n",
       "      <td>SBrkr</td>\n",
       "      <td>-0.870017</td>\n",
       "      <td>1</td>\n",
       "      <td>Detchd</td>\n",
       "      <td>1</td>\n",
       "      <td>-0.760549</td>\n",
       "    </tr>\n",
       "    <tr>\n",
       "      <th>773</th>\n",
       "      <td>4</td>\n",
       "      <td>-1.790365</td>\n",
       "      <td>0.363973</td>\n",
       "      <td>FuseA</td>\n",
       "      <td>-0.644402</td>\n",
       "      <td>1</td>\n",
       "      <td>Detchd</td>\n",
       "      <td>2</td>\n",
       "      <td>-0.105635</td>\n",
       "    </tr>\n",
       "    <tr>\n",
       "      <th>506</th>\n",
       "      <td>6</td>\n",
       "      <td>-0.424440</td>\n",
       "      <td>2.371816</td>\n",
       "      <td>SBrkr</td>\n",
       "      <td>1.920997</td>\n",
       "      <td>3</td>\n",
       "      <td>Attchd</td>\n",
       "      <td>2</td>\n",
       "      <td>0.083946</td>\n",
       "    </tr>\n",
       "  </tbody>\n",
       "</table>\n",
       "<p>354 rows × 9 columns</p>\n",
       "</div>"
      ],
      "text/plain": [
       "      OverallQual  YearBuilt  TotalBsmtSF Electrical  GrLivArea  FullBath  \\\n",
       "439             8   1.307953    -0.507129      SBrkr   0.792922         2   \n",
       "1067            5   0.041973    -0.224739      SBrkr  -1.122861         1   \n",
       "941             7   1.241322     0.919181      SBrkr  -0.193172         2   \n",
       "1158            6   0.974800     0.430981      SBrkr  -0.589943         2   \n",
       "978             5  -0.157918    -2.498219      SBrkr   0.265838         2   \n",
       "...           ...        ...          ...        ...        ...       ...   \n",
       "1305            7   1.208007    -0.756015      SBrkr  -0.138713         2   \n",
       "1102            6  -0.657647    -0.028501      FuseA  -0.535484         1   \n",
       "111             6  -0.391125     0.086369      SBrkr  -0.870017         1   \n",
       "773             4  -1.790365     0.363973      FuseA  -0.644402         1   \n",
       "506             6  -0.424440     2.371816      SBrkr   1.920997         3   \n",
       "\n",
       "     GarageType  GarageCars  GarageArea  \n",
       "439     BuiltIn           2    0.376933  \n",
       "1067     Detchd           1   -0.795018  \n",
       "941      Attchd           2    0.066711  \n",
       "1158     Attchd           2   -0.269363  \n",
       "978    NoGarage           0   -2.001439  \n",
       "...         ...         ...         ...  \n",
       "1305     Attchd           2   -0.105635  \n",
       "1102     Attchd           1   -0.760549  \n",
       "111      Detchd           1   -0.760549  \n",
       "773      Detchd           2   -0.105635  \n",
       "506      Attchd           2    0.083946  \n",
       "\n",
       "[354 rows x 9 columns]"
      ]
     },
     "execution_count": 266,
     "metadata": {},
     "output_type": "execute_result"
    }
   ],
   "source": [
    "test_x"
   ]
  },
  {
   "cell_type": "markdown",
   "id": "bd4de46b",
   "metadata": {},
   "source": [
    "### Statistical Analysis"
   ]
  },
  {
   "cell_type": "markdown",
   "id": "c4b85bd1",
   "metadata": {},
   "source": [
    "Key Inferences : SalePrice is highly affected\n",
    "\n",
    "* OverallQual   - Cat\n",
    "* GrLivArea     - Num\n",
    "* GarageArea    - Num\n",
    "* TotalBsmtSF   - Num\n",
    "* FullBath      - Cat"
   ]
  },
  {
   "cell_type": "code",
   "execution_count": 267,
   "id": "ea2a0c11",
   "metadata": {},
   "outputs": [
    {
     "data": {
      "image/png": "[encoded data removed]",
      "text/plain": [
       "<Figure size 432x288 with 1 Axes>"
      ]
     },
     "metadata": {
      "needs_background": "light"
     },
     "output_type": "display_data"
    }
   ],
   "source": [
    "# SalePrice & GrLivArea\n",
    "\n",
    "sns.scatterplot(x=housing['GrLivArea'], y=housing['SalePrice'])\n",
    "plt.show()"
   ]
  },
  {
   "cell_type": "markdown",
   "id": "881f398a",
   "metadata": {},
   "source": [
    "#### Two Sample T-test (test fr independence)\n",
    "##### Assumption : Data must be normal, smaples must have equal variances.."
   ]
  },
  {
   "cell_type": "code",
   "execution_count": 283,
   "id": "2aeb2eea",
   "metadata": {},
   "outputs": [],
   "source": [
    "from scipy.stats import shapiro, levene, mannwhitneyu, pearsonr, kruskal"
   ]
  },
  {
   "cell_type": "code",
   "execution_count": 273,
   "id": "9daa2924",
   "metadata": {},
   "outputs": [
    {
     "name": "stdout",
     "output_type": "stream",
     "text": [
      "Ha: The data is not normal\n"
     ]
    }
   ],
   "source": [
    "# Normality\n",
    "\n",
    "p = shapiro(housing['SalePrice'])[1]\n",
    "if p > 0.05:\n",
    "    print('Ho: The data is normal')\n",
    "else:\n",
    "    print('Ha: The data is not normal')"
   ]
  },
  {
   "cell_type": "code",
   "execution_count": 274,
   "id": "107cb828",
   "metadata": {},
   "outputs": [
    {
     "name": "stdout",
     "output_type": "stream",
     "text": [
      "Ha: The two samples are dependent\n"
     ]
    }
   ],
   "source": [
    "# In this case we have to use non parametric (mann-whitneyu) test\n",
    "\n",
    "p = mannwhitneyu(housing['SalePrice'], housing['GrLivArea'])[1]\n",
    "if p > 0.05:\n",
    "    print('Ho: The two samples are independent')\n",
    "else:\n",
    "    print('Ha: The two samples are dependent')"
   ]
  },
  {
   "cell_type": "code",
   "execution_count": 276,
   "id": "0e79dbf2",
   "metadata": {},
   "outputs": [
    {
     "name": "stdout",
     "output_type": "stream",
     "text": [
      "Ha: The two samples are correlated\n"
     ]
    }
   ],
   "source": [
    "# pearsons corr test\n",
    "\n",
    "p = pearsonr(housing['SalePrice'], housing['GrLivArea'])[1]\n",
    "if p > 0.05:\n",
    "    print('Ho: The two samples are non correlated')\n",
    "else:\n",
    "    print('Ha: The two samples are correlated')"
   ]
  },
  {
   "cell_type": "code",
   "execution_count": 278,
   "id": "18673d2a",
   "metadata": {},
   "outputs": [
    {
     "data": {
      "text/plain": [
       "<AxesSubplot:xlabel='GarageArea', ylabel='SalePrice'>"
      ]
     },
     "execution_count": 278,
     "metadata": {},
     "output_type": "execute_result"
    },
    {
     "data": {
      "image/png": "[encoded data removed]",
      "text/plain": [
       "<Figure size 432x288 with 1 Axes>"
      ]
     },
     "metadata": {
      "needs_background": "light"
     },
     "output_type": "display_data"
    }
   ],
   "source": [
    "# SalePrice and GarageArea\n",
    "\n",
    "sns.scatterplot(x=housing['GarageArea'], y=housing['SalePrice'])"
   ]
  },
  {
   "cell_type": "code",
   "execution_count": 279,
   "id": "2f84bec9",
   "metadata": {},
   "outputs": [
    {
     "name": "stdout",
     "output_type": "stream",
     "text": [
      "Ha: The two samples are correlated\n"
     ]
    }
   ],
   "source": [
    "# pearsons corr test\n",
    "\n",
    "p = pearsonr(housing['SalePrice'], housing['GarageArea'])[1]\n",
    "if p > 0.05:\n",
    "    print('Ho: The two samples are non correlated')\n",
    "else:\n",
    "    print('Ha: The two samples are correlated')"
   ]
  },
  {
   "cell_type": "code",
   "execution_count": 281,
   "id": "d1a4ef1e",
   "metadata": {},
   "outputs": [],
   "source": [
    "# BuildQuality and SalePrice"
   ]
  },
  {
   "cell_type": "code",
   "execution_count": 282,
   "id": "70b8bb59",
   "metadata": {},
   "outputs": [],
   "source": [
    "# For CAT vs NUM  :  Anova ~ Kruskal Wallis (non parametric) "
   ]
  },
  {
   "cell_type": "code",
   "execution_count": 285,
   "id": "6645ba55",
   "metadata": {},
   "outputs": [],
   "source": [
    "# Samples\n",
    "\n",
    "housing['OverallQual'].value_counts()\n",
    "\n",
    "samp1 = housing[housing['OverallQual']==1]['SalePrice']\n",
    "samp2 = housing[housing['OverallQual']==2]['SalePrice']\n",
    "samp3 = housing[housing['OverallQual']==3]['SalePrice']\n",
    "samp4 = housing[housing['OverallQual']==4]['SalePrice']\n",
    "samp5 = housing[housing['OverallQual']==5]['SalePrice']\n",
    "samp6 = housing[housing['OverallQual']==6]['SalePrice']\n",
    "samp7 = housing[housing['OverallQual']==7]['SalePrice']\n",
    "samp8 = housing[housing['OverallQual']==8]['SalePrice']\n",
    "samp9 = housing[housing['OverallQual']==9]['SalePrice']\n",
    "samp10 = housing[housing['OverallQual']==10]['SalePrice']"
   ]
  },
  {
   "cell_type": "code",
   "execution_count": 288,
   "id": "079555b4",
   "metadata": {},
   "outputs": [
    {
     "name": "stdout",
     "output_type": "stream",
     "text": [
      "Ha: There is significant relation b/w columns\n"
     ]
    }
   ],
   "source": [
    "kruskal(samp1,samp2, samp3,samp4,samp5,samp6,samp7,samp8,samp9,samp10)[1]\n",
    "\n",
    "if p > 0.05:\n",
    "    print('Ho: There is no relation b/w columns')\n",
    "else:\n",
    "    print('Ha: There is significant relation b/w columns')"
   ]
  },
  {
   "cell_type": "markdown",
   "id": "55cef177",
   "metadata": {},
   "source": [
    "## Analysing Fence and Misc Features"
   ]
  },
  {
   "cell_type": "code",
   "execution_count": 289,
   "id": "3f9914dc",
   "metadata": {},
   "outputs": [],
   "source": [
    "# Original Dataset\n",
    "\n",
    "df = pd.read_csv(r\"E:\\TABLES\\housing data-1.csv\")"
   ]
  },
  {
   "cell_type": "code",
   "execution_count": 290,
   "id": "2e876042",
   "metadata": {},
   "outputs": [
    {
     "data": {
      "text/html": [
       "<div>\n",
       "<style scoped>\n",
       "    .dataframe tbody tr th:only-of-type {\n",
       "        vertical-align: middle;\n",
       "    }\n",
       "\n",
       "    .dataframe tbody tr th {\n",
       "        vertical-align: top;\n",
       "    }\n",
       "\n",
       "    .dataframe thead th {\n",
       "        text-align: right;\n",
       "    }\n",
       "</style>\n",
       "<table border=\"1\" class=\"dataframe\">\n",
       "  <thead>\n",
       "    <tr style=\"text-align: right;\">\n",
       "      <th></th>\n",
       "      <th>Id</th>\n",
       "      <th>OverallQual</th>\n",
       "      <th>YearBuilt</th>\n",
       "      <th>TotalBsmtSF</th>\n",
       "      <th>Electrical</th>\n",
       "      <th>GrLivArea</th>\n",
       "      <th>FullBath</th>\n",
       "      <th>GarageType</th>\n",
       "      <th>GarageCars</th>\n",
       "      <th>GarageArea</th>\n",
       "      <th>Fence</th>\n",
       "      <th>MiscFeature</th>\n",
       "      <th>SalePrice</th>\n",
       "    </tr>\n",
       "  </thead>\n",
       "  <tbody>\n",
       "    <tr>\n",
       "      <th>0</th>\n",
       "      <td>1</td>\n",
       "      <td>7</td>\n",
       "      <td>2003</td>\n",
       "      <td>856</td>\n",
       "      <td>SBrkr</td>\n",
       "      <td>1710</td>\n",
       "      <td>2</td>\n",
       "      <td>Attchd</td>\n",
       "      <td>2</td>\n",
       "      <td>548</td>\n",
       "      <td>NaN</td>\n",
       "      <td>NaN</td>\n",
       "      <td>208500</td>\n",
       "    </tr>\n",
       "    <tr>\n",
       "      <th>1</th>\n",
       "      <td>2</td>\n",
       "      <td>6</td>\n",
       "      <td>1976</td>\n",
       "      <td>1262</td>\n",
       "      <td>SBrkr</td>\n",
       "      <td>1262</td>\n",
       "      <td>2</td>\n",
       "      <td>Attchd</td>\n",
       "      <td>2</td>\n",
       "      <td>460</td>\n",
       "      <td>NaN</td>\n",
       "      <td>NaN</td>\n",
       "      <td>181500</td>\n",
       "    </tr>\n",
       "    <tr>\n",
       "      <th>2</th>\n",
       "      <td>3</td>\n",
       "      <td>7</td>\n",
       "      <td>2001</td>\n",
       "      <td>920</td>\n",
       "      <td>SBrkr</td>\n",
       "      <td>1786</td>\n",
       "      <td>2</td>\n",
       "      <td>Attchd</td>\n",
       "      <td>2</td>\n",
       "      <td>608</td>\n",
       "      <td>NaN</td>\n",
       "      <td>NaN</td>\n",
       "      <td>223500</td>\n",
       "    </tr>\n",
       "    <tr>\n",
       "      <th>3</th>\n",
       "      <td>4</td>\n",
       "      <td>7</td>\n",
       "      <td>1915</td>\n",
       "      <td>756</td>\n",
       "      <td>SBrkr</td>\n",
       "      <td>1717</td>\n",
       "      <td>1</td>\n",
       "      <td>Detchd</td>\n",
       "      <td>3</td>\n",
       "      <td>642</td>\n",
       "      <td>NaN</td>\n",
       "      <td>NaN</td>\n",
       "      <td>140000</td>\n",
       "    </tr>\n",
       "    <tr>\n",
       "      <th>4</th>\n",
       "      <td>5</td>\n",
       "      <td>8</td>\n",
       "      <td>2000</td>\n",
       "      <td>1145</td>\n",
       "      <td>SBrkr</td>\n",
       "      <td>2198</td>\n",
       "      <td>2</td>\n",
       "      <td>Attchd</td>\n",
       "      <td>3</td>\n",
       "      <td>836</td>\n",
       "      <td>NaN</td>\n",
       "      <td>NaN</td>\n",
       "      <td>250000</td>\n",
       "    </tr>\n",
       "  </tbody>\n",
       "</table>\n",
       "</div>"
      ],
      "text/plain": [
       "   Id  OverallQual  YearBuilt  TotalBsmtSF Electrical  GrLivArea  FullBath  \\\n",
       "0   1            7       2003          856      SBrkr       1710         2   \n",
       "1   2            6       1976         1262      SBrkr       1262         2   \n",
       "2   3            7       2001          920      SBrkr       1786         2   \n",
       "3   4            7       1915          756      SBrkr       1717         1   \n",
       "4   5            8       2000         1145      SBrkr       2198         2   \n",
       "\n",
       "  GarageType  GarageCars  GarageArea Fence MiscFeature  SalePrice  \n",
       "0     Attchd           2         548   NaN         NaN     208500  \n",
       "1     Attchd           2         460   NaN         NaN     181500  \n",
       "2     Attchd           2         608   NaN         NaN     223500  \n",
       "3     Detchd           3         642   NaN         NaN     140000  \n",
       "4     Attchd           3         836   NaN         NaN     250000  "
      ]
     },
     "execution_count": 290,
     "metadata": {},
     "output_type": "execute_result"
    }
   ],
   "source": [
    "df.head()"
   ]
  },
  {
   "cell_type": "code",
   "execution_count": 291,
   "id": "0f8ef1f9",
   "metadata": {},
   "outputs": [
    {
     "data": {
      "text/plain": [
       "MnPrv    148\n",
       "GdPrv     58\n",
       "GdWo      53\n",
       "MnWw      11\n",
       "Name: Fence, dtype: int64"
      ]
     },
     "execution_count": 291,
     "metadata": {},
     "output_type": "execute_result"
    }
   ],
   "source": [
    "df['Fence'].value_counts()"
   ]
  },
  {
   "cell_type": "code",
   "execution_count": 292,
   "id": "c410d57c",
   "metadata": {},
   "outputs": [],
   "source": [
    "df['Fence'] = np.where(df['Fence'].isnull(), 'No', 'Yes')"
   ]
  },
  {
   "cell_type": "code",
   "execution_count": 293,
   "id": "01778b68",
   "metadata": {},
   "outputs": [
    {
     "data": {
      "text/plain": [
       "No     1148\n",
       "Yes     270\n",
       "Name: Fence, dtype: int64"
      ]
     },
     "execution_count": 293,
     "metadata": {},
     "output_type": "execute_result"
    }
   ],
   "source": [
    "df['Fence'].value_counts()"
   ]
  },
  {
   "cell_type": "code",
   "execution_count": 297,
   "id": "22534317",
   "metadata": {},
   "outputs": [
    {
     "name": "stdout",
     "output_type": "stream",
     "text": [
      "Ha: mu1 != mu2\n"
     ]
    }
   ],
   "source": [
    "samp1 = df[df['Fence']=='Yes']['SalePrice']\n",
    "samp2 = df[df['Fence']=='No']['SalePrice']\n",
    "\n",
    "p = mannwhitneyu(samp1,samp2)[1]\n",
    "if p>0.05:\n",
    "    print('Ho: mu1 = mu2')\n",
    "else:\n",
    "    print('Ha: mu1 != mu2')"
   ]
  },
  {
   "cell_type": "code",
   "execution_count": 301,
   "id": "85c5ad64",
   "metadata": {},
   "outputs": [
    {
     "data": {
      "text/plain": [
       "<AxesSubplot:xlabel='Fence', ylabel='SalePrice'>"
      ]
     },
     "execution_count": 301,
     "metadata": {},
     "output_type": "execute_result"
    },
    {
     "data": {
      "image/png": "[encoded data removed]",
      "text/plain": [
       "<Figure size 432x288 with 1 Axes>"
      ]
     },
     "metadata": {
      "needs_background": "light"
     },
     "output_type": "display_data"
    }
   ],
   "source": [
    "sns.boxplot(df['Fence'],df['SalePrice'])"
   ]
  },
  {
   "cell_type": "code",
   "execution_count": 296,
   "id": "fb2db154",
   "metadata": {},
   "outputs": [
    {
     "data": {
      "text/plain": [
       "Shed    47\n",
       "Gar2     2\n",
       "Othr     2\n",
       "TenC     1\n",
       "Name: MiscFeature, dtype: int64"
      ]
     },
     "execution_count": 296,
     "metadata": {},
     "output_type": "execute_result"
    }
   ],
   "source": [
    "df['MiscFeature'].value_counts()"
   ]
  },
  {
   "cell_type": "code",
   "execution_count": 298,
   "id": "87f9fc37",
   "metadata": {},
   "outputs": [],
   "source": [
    "df['MiscFeature'] = np.where(df['MiscFeature'].isnull(), 'No', 'Yes')"
   ]
  },
  {
   "cell_type": "code",
   "execution_count": 299,
   "id": "6653f333",
   "metadata": {},
   "outputs": [
    {
     "data": {
      "text/plain": [
       "No     1366\n",
       "Yes      52\n",
       "Name: MiscFeature, dtype: int64"
      ]
     },
     "execution_count": 299,
     "metadata": {},
     "output_type": "execute_result"
    }
   ],
   "source": [
    "df['MiscFeature'].value_counts()"
   ]
  },
  {
   "cell_type": "code",
   "execution_count": 300,
   "id": "8fced44d",
   "metadata": {},
   "outputs": [
    {
     "name": "stdout",
     "output_type": "stream",
     "text": [
      "Ha: mu1 != mu2\n"
     ]
    }
   ],
   "source": [
    "samp1 = df[df['MiscFeature']=='Yes']['SalePrice']\n",
    "samp2 = df[df['MiscFeature']=='No']['SalePrice']\n",
    "\n",
    "p = mannwhitneyu(samp1,samp2)[1]\n",
    "if p>0.05:\n",
    "    print('Ho: mu1 = mu2')\n",
    "else:\n",
    "    print('Ha: mu1 != mu2')"
   ]
  },
  {
   "cell_type": "code",
   "execution_count": 302,
   "id": "5a07b76e",
   "metadata": {},
   "outputs": [
    {
     "data": {
      "text/plain": [
       "<AxesSubplot:xlabel='MiscFeature', ylabel='SalePrice'>"
      ]
     },
     "execution_count": 302,
     "metadata": {},
     "output_type": "execute_result"
    },
    {
     "data": {
      "image/png": "[encoded data removed]",
      "text/plain": [
       "<Figure size 432x288 with 1 Axes>"
      ]
     },
     "metadata": {
      "needs_background": "light"
     },
     "output_type": "display_data"
    }
   ],
   "source": [
    "sns.boxplot(df['MiscFeature'],df['SalePrice'])"
   ]
  }
 ],
 "metadata": {
  "kernelspec": {
   "display_name": "Python 3 (ipykernel)",
   "language": "python",
   "name": "python3"
  },
  "language_info": {
   "codemirror_mode": {
    "name": "ipython",
    "version": 3
   },
   "file_extension": ".py",
   "mimetype": "text/x-python",
   "name": "python",
   "nbconvert_exporter": "python",
   "pygments_lexer": "ipython3",
   "version": "3.9.12"
  }
 },
 "nbformat": 4,
 "nbformat_minor": 5
}
